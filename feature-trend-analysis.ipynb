{
 "cells": [
  {
   "cell_type": "code",
   "execution_count": 2,
   "id": "e7993faf-c08f-4b8a-b519-2831f83633e3",
   "metadata": {},
   "outputs": [],
   "source": [
    "import pandas as pd\n",
    "import numpy as np\n",
    "import matplotlib.pyplot as plt"
   ]
  },
  {
   "cell_type": "code",
   "execution_count": 3,
   "id": "87bb2665-1eea-47ff-ba9e-64d71c8de81b",
   "metadata": {},
   "outputs": [],
   "source": [
    "data = pd.read_csv('data_processed_label_encoded.csv')"
   ]
  },
  {
   "cell_type": "code",
   "execution_count": 4,
   "id": "6c8402f2-73d8-48cc-bf29-e5e84112dabb",
   "metadata": {},
   "outputs": [
    {
     "data": {
      "text/plain": [
       "(7040, 25)"
      ]
     },
     "execution_count": 4,
     "metadata": {},
     "output_type": "execute_result"
    }
   ],
   "source": [
    "data.shape"
   ]
  },
  {
   "cell_type": "code",
   "execution_count": 5,
   "id": "d2782487-0290-4d6b-b4d5-673cc566b964",
   "metadata": {},
   "outputs": [
    {
     "data": {
      "text/html": [
       "<div>\n",
       "<style scoped>\n",
       "    .dataframe tbody tr th:only-of-type {\n",
       "        vertical-align: middle;\n",
       "    }\n",
       "\n",
       "    .dataframe tbody tr th {\n",
       "        vertical-align: top;\n",
       "    }\n",
       "\n",
       "    .dataframe thead th {\n",
       "        text-align: right;\n",
       "    }\n",
       "</style>\n",
       "<table border=\"1\" class=\"dataframe\">\n",
       "  <thead>\n",
       "    <tr style=\"text-align: right;\">\n",
       "      <th></th>\n",
       "      <th>CountryCode</th>\n",
       "      <th>Year</th>\n",
       "      <th>AIR_TRANS_FREIGHT</th>\n",
       "      <th>ALT_NUCL_EN_PERC</th>\n",
       "      <th>CEREAL_YIELD</th>\n",
       "      <th>CO2_EM_PC</th>\n",
       "      <th>CO2_EM_TOTAL</th>\n",
       "      <th>COMB_REN_WASTE_PERC</th>\n",
       "      <th>ELEC_PROD_COAL_PERC</th>\n",
       "      <th>ELEC_PROD_HYDRO_PERC</th>\n",
       "      <th>...</th>\n",
       "      <th>FOSSIL_FUEL_EN_CONS_PERC</th>\n",
       "      <th>FUEL_IMPORT_PERC</th>\n",
       "      <th>GDP_GROWTH_PERC</th>\n",
       "      <th>GDP_PC</th>\n",
       "      <th>METHANE_EM</th>\n",
       "      <th>NO2_EM</th>\n",
       "      <th>POP_GROWTH_PERC</th>\n",
       "      <th>POP_URBAN_AGG</th>\n",
       "      <th>URBAN_POP_GROWTH</th>\n",
       "      <th>URBAN_POP_TOTAL</th>\n",
       "    </tr>\n",
       "  </thead>\n",
       "  <tbody>\n",
       "    <tr>\n",
       "      <th>0</th>\n",
       "      <td>0.0</td>\n",
       "      <td>1971.0</td>\n",
       "      <td>179.560502</td>\n",
       "      <td>1.351166</td>\n",
       "      <td>805.7</td>\n",
       "      <td>0.564548</td>\n",
       "      <td>3410.310</td>\n",
       "      <td>82.814638</td>\n",
       "      <td>0.0</td>\n",
       "      <td>81.536388</td>\n",
       "      <td>...</td>\n",
       "      <td>15.834196</td>\n",
       "      <td>3.008041</td>\n",
       "      <td>3.897323</td>\n",
       "      <td>2133.368871</td>\n",
       "      <td>14500.0</td>\n",
       "      <td>15844.224</td>\n",
       "      <td>2.521468</td>\n",
       "      <td>8.088198</td>\n",
       "      <td>6.935496</td>\n",
       "      <td>15.632</td>\n",
       "    </tr>\n",
       "    <tr>\n",
       "      <th>1</th>\n",
       "      <td>0.0</td>\n",
       "      <td>1972.0</td>\n",
       "      <td>179.560502</td>\n",
       "      <td>1.410646</td>\n",
       "      <td>780.3</td>\n",
       "      <td>0.721246</td>\n",
       "      <td>4506.743</td>\n",
       "      <td>77.328549</td>\n",
       "      <td>0.0</td>\n",
       "      <td>81.145585</td>\n",
       "      <td>...</td>\n",
       "      <td>21.260806</td>\n",
       "      <td>4.912853</td>\n",
       "      <td>3.897323</td>\n",
       "      <td>2133.368871</td>\n",
       "      <td>15590.0</td>\n",
       "      <td>16758.848</td>\n",
       "      <td>3.381711</td>\n",
       "      <td>8.226706</td>\n",
       "      <td>8.512645</td>\n",
       "      <td>16.455</td>\n",
       "    </tr>\n",
       "    <tr>\n",
       "      <th>2</th>\n",
       "      <td>0.0</td>\n",
       "      <td>1973.0</td>\n",
       "      <td>179.560502</td>\n",
       "      <td>1.694730</td>\n",
       "      <td>764.0</td>\n",
       "      <td>0.751240</td>\n",
       "      <td>4880.777</td>\n",
       "      <td>78.198305</td>\n",
       "      <td>0.0</td>\n",
       "      <td>82.723577</td>\n",
       "      <td>...</td>\n",
       "      <td>20.106941</td>\n",
       "      <td>5.225642</td>\n",
       "      <td>3.897323</td>\n",
       "      <td>2133.368871</td>\n",
       "      <td>16651.7</td>\n",
       "      <td>17638.938</td>\n",
       "      <td>3.898493</td>\n",
       "      <td>8.323290</td>\n",
       "      <td>8.964003</td>\n",
       "      <td>17.310</td>\n",
       "    </tr>\n",
       "    <tr>\n",
       "      <th>3</th>\n",
       "      <td>0.0</td>\n",
       "      <td>1974.0</td>\n",
       "      <td>179.560502</td>\n",
       "      <td>1.748593</td>\n",
       "      <td>712.6</td>\n",
       "      <td>0.720776</td>\n",
       "      <td>4873.443</td>\n",
       "      <td>77.325302</td>\n",
       "      <td>0.0</td>\n",
       "      <td>69.812856</td>\n",
       "      <td>...</td>\n",
       "      <td>20.926104</td>\n",
       "      <td>4.493266</td>\n",
       "      <td>3.897323</td>\n",
       "      <td>2133.368871</td>\n",
       "      <td>15008.3</td>\n",
       "      <td>14997.738</td>\n",
       "      <td>3.989233</td>\n",
       "      <td>8.413978</td>\n",
       "      <td>9.013923</td>\n",
       "      <td>18.202</td>\n",
       "    </tr>\n",
       "    <tr>\n",
       "      <th>4</th>\n",
       "      <td>0.0</td>\n",
       "      <td>1975.0</td>\n",
       "      <td>179.560502</td>\n",
       "      <td>1.982570</td>\n",
       "      <td>773.9</td>\n",
       "      <td>0.628569</td>\n",
       "      <td>4415.068</td>\n",
       "      <td>80.191191</td>\n",
       "      <td>0.0</td>\n",
       "      <td>72.796935</td>\n",
       "      <td>...</td>\n",
       "      <td>17.826264</td>\n",
       "      <td>11.942561</td>\n",
       "      <td>3.897323</td>\n",
       "      <td>2133.368871</td>\n",
       "      <td>17061.4</td>\n",
       "      <td>17645.913</td>\n",
       "      <td>3.810585</td>\n",
       "      <td>8.520843</td>\n",
       "      <td>8.772812</td>\n",
       "      <td>19.128</td>\n",
       "    </tr>\n",
       "  </tbody>\n",
       "</table>\n",
       "<p>5 rows × 25 columns</p>\n",
       "</div>"
      ],
      "text/plain": [
       "   CountryCode    Year  AIR_TRANS_FREIGHT  ALT_NUCL_EN_PERC  CEREAL_YIELD  \\\n",
       "0          0.0  1971.0         179.560502          1.351166         805.7   \n",
       "1          0.0  1972.0         179.560502          1.410646         780.3   \n",
       "2          0.0  1973.0         179.560502          1.694730         764.0   \n",
       "3          0.0  1974.0         179.560502          1.748593         712.6   \n",
       "4          0.0  1975.0         179.560502          1.982570         773.9   \n",
       "\n",
       "   CO2_EM_PC  CO2_EM_TOTAL  COMB_REN_WASTE_PERC  ELEC_PROD_COAL_PERC  \\\n",
       "0   0.564548      3410.310            82.814638                  0.0   \n",
       "1   0.721246      4506.743            77.328549                  0.0   \n",
       "2   0.751240      4880.777            78.198305                  0.0   \n",
       "3   0.720776      4873.443            77.325302                  0.0   \n",
       "4   0.628569      4415.068            80.191191                  0.0   \n",
       "\n",
       "   ELEC_PROD_HYDRO_PERC  ...  FOSSIL_FUEL_EN_CONS_PERC  FUEL_IMPORT_PERC  \\\n",
       "0             81.536388  ...                 15.834196          3.008041   \n",
       "1             81.145585  ...                 21.260806          4.912853   \n",
       "2             82.723577  ...                 20.106941          5.225642   \n",
       "3             69.812856  ...                 20.926104          4.493266   \n",
       "4             72.796935  ...                 17.826264         11.942561   \n",
       "\n",
       "   GDP_GROWTH_PERC       GDP_PC  METHANE_EM     NO2_EM  POP_GROWTH_PERC  \\\n",
       "0         3.897323  2133.368871     14500.0  15844.224         2.521468   \n",
       "1         3.897323  2133.368871     15590.0  16758.848         3.381711   \n",
       "2         3.897323  2133.368871     16651.7  17638.938         3.898493   \n",
       "3         3.897323  2133.368871     15008.3  14997.738         3.989233   \n",
       "4         3.897323  2133.368871     17061.4  17645.913         3.810585   \n",
       "\n",
       "   POP_URBAN_AGG  URBAN_POP_GROWTH  URBAN_POP_TOTAL  \n",
       "0       8.088198          6.935496           15.632  \n",
       "1       8.226706          8.512645           16.455  \n",
       "2       8.323290          8.964003           17.310  \n",
       "3       8.413978          9.013923           18.202  \n",
       "4       8.520843          8.772812           19.128  \n",
       "\n",
       "[5 rows x 25 columns]"
      ]
     },
     "execution_count": 5,
     "metadata": {},
     "output_type": "execute_result"
    }
   ],
   "source": [
    "data.head()"
   ]
  },
  {
   "cell_type": "code",
   "execution_count": 127,
   "id": "e69ca0ac-6bae-497d-be99-34819e9233f4",
   "metadata": {},
   "outputs": [
    {
     "data": {
      "text/html": [
       "<div>\n",
       "<style scoped>\n",
       "    .dataframe tbody tr th:only-of-type {\n",
       "        vertical-align: middle;\n",
       "    }\n",
       "\n",
       "    .dataframe tbody tr th {\n",
       "        vertical-align: top;\n",
       "    }\n",
       "\n",
       "    .dataframe thead th {\n",
       "        text-align: right;\n",
       "    }\n",
       "</style>\n",
       "<table border=\"1\" class=\"dataframe\">\n",
       "  <thead>\n",
       "    <tr style=\"text-align: right;\">\n",
       "      <th></th>\n",
       "      <th>CountryCode</th>\n",
       "      <th>Year</th>\n",
       "      <th>AIR_TRANS_FREIGHT</th>\n",
       "      <th>ALT_NUCL_EN_PERC</th>\n",
       "      <th>CEREAL_YIELD</th>\n",
       "      <th>CO2_EM_PC</th>\n",
       "      <th>CO2_EM_TOTAL</th>\n",
       "      <th>COMB_REN_WASTE_PERC</th>\n",
       "      <th>ELEC_PROD_COAL_PERC</th>\n",
       "      <th>ELEC_PROD_HYDRO_PERC</th>\n",
       "      <th>...</th>\n",
       "      <th>FOSSIL_FUEL_EN_CONS_PERC</th>\n",
       "      <th>FUEL_IMPORT_PERC</th>\n",
       "      <th>GDP_GROWTH_PERC</th>\n",
       "      <th>GDP_PC</th>\n",
       "      <th>METHANE_EM</th>\n",
       "      <th>NO2_EM</th>\n",
       "      <th>POP_GROWTH_PERC</th>\n",
       "      <th>POP_URBAN_AGG</th>\n",
       "      <th>URBAN_POP_GROWTH</th>\n",
       "      <th>URBAN_POP_TOTAL</th>\n",
       "    </tr>\n",
       "  </thead>\n",
       "  <tbody>\n",
       "    <tr>\n",
       "      <th>6771</th>\n",
       "      <td>153.0</td>\n",
       "      <td>2010.0</td>\n",
       "      <td>1.216190</td>\n",
       "      <td>6.550348</td>\n",
       "      <td>3576.0</td>\n",
       "      <td>6.693450</td>\n",
       "      <td>190361.304</td>\n",
       "      <td>1.054280</td>\n",
       "      <td>0.0</td>\n",
       "      <td>67.490001</td>\n",
       "      <td>...</td>\n",
       "      <td>89.812497</td>\n",
       "      <td>0.626019</td>\n",
       "      <td>-1.488791</td>\n",
       "      <td>13825.358088</td>\n",
       "      <td>57057.700</td>\n",
       "      <td>15819.734000</td>\n",
       "      <td>1.448313</td>\n",
       "      <td>30.035499</td>\n",
       "      <td>1.477832</td>\n",
       "      <td>88.083</td>\n",
       "    </tr>\n",
       "    <tr>\n",
       "      <th>6772</th>\n",
       "      <td>153.0</td>\n",
       "      <td>2011.0</td>\n",
       "      <td>7.561770</td>\n",
       "      <td>7.704321</td>\n",
       "      <td>3461.1</td>\n",
       "      <td>5.931888</td>\n",
       "      <td>171362.577</td>\n",
       "      <td>1.121703</td>\n",
       "      <td>0.0</td>\n",
       "      <td>70.930223</td>\n",
       "      <td>...</td>\n",
       "      <td>88.126095</td>\n",
       "      <td>0.769236</td>\n",
       "      <td>4.176425</td>\n",
       "      <td>10955.349913</td>\n",
       "      <td>57628.277</td>\n",
       "      <td>15977.931340</td>\n",
       "      <td>1.564456</td>\n",
       "      <td>29.885242</td>\n",
       "      <td>1.592835</td>\n",
       "      <td>88.108</td>\n",
       "    </tr>\n",
       "    <tr>\n",
       "      <th>6773</th>\n",
       "      <td>153.0</td>\n",
       "      <td>2012.0</td>\n",
       "      <td>5.672041</td>\n",
       "      <td>6.972635</td>\n",
       "      <td>3760.2</td>\n",
       "      <td>6.540353</td>\n",
       "      <td>192040.790</td>\n",
       "      <td>1.020756</td>\n",
       "      <td>0.0</td>\n",
       "      <td>67.411408</td>\n",
       "      <td>...</td>\n",
       "      <td>89.258569</td>\n",
       "      <td>0.892059</td>\n",
       "      <td>5.625957</td>\n",
       "      <td>12985.505325</td>\n",
       "      <td>58198.854</td>\n",
       "      <td>16136.128680</td>\n",
       "      <td>1.627756</td>\n",
       "      <td>29.728321</td>\n",
       "      <td>1.644780</td>\n",
       "      <td>88.123</td>\n",
       "    </tr>\n",
       "    <tr>\n",
       "      <th>6774</th>\n",
       "      <td>153.0</td>\n",
       "      <td>2013.0</td>\n",
       "      <td>5.198784</td>\n",
       "      <td>8.247059</td>\n",
       "      <td>4007.3</td>\n",
       "      <td>6.176024</td>\n",
       "      <td>183944.054</td>\n",
       "      <td>1.073811</td>\n",
       "      <td>0.0</td>\n",
       "      <td>67.834524</td>\n",
       "      <td>...</td>\n",
       "      <td>88.377973</td>\n",
       "      <td>0.584178</td>\n",
       "      <td>1.343094</td>\n",
       "      <td>12456.712454</td>\n",
       "      <td>29056.750</td>\n",
       "      <td>12683.649014</td>\n",
       "      <td>1.424032</td>\n",
       "      <td>29.636198</td>\n",
       "      <td>1.435380</td>\n",
       "      <td>88.133</td>\n",
       "    </tr>\n",
       "    <tr>\n",
       "      <th>6775</th>\n",
       "      <td>153.0</td>\n",
       "      <td>2014.0</td>\n",
       "      <td>4.068351</td>\n",
       "      <td>2.401774</td>\n",
       "      <td>4040.7</td>\n",
       "      <td>6.161192</td>\n",
       "      <td>185113.827</td>\n",
       "      <td>11.186967</td>\n",
       "      <td>0.0</td>\n",
       "      <td>68.262704</td>\n",
       "      <td>...</td>\n",
       "      <td>75.558918</td>\n",
       "      <td>11.942561</td>\n",
       "      <td>-3.894386</td>\n",
       "      <td>16054.490513</td>\n",
       "      <td>29056.750</td>\n",
       "      <td>12683.649014</td>\n",
       "      <td>0.874378</td>\n",
       "      <td>29.709194</td>\n",
       "      <td>0.886858</td>\n",
       "      <td>88.144</td>\n",
       "    </tr>\n",
       "  </tbody>\n",
       "</table>\n",
       "<p>5 rows × 25 columns</p>\n",
       "</div>"
      ],
      "text/plain": [
       "      CountryCode    Year  AIR_TRANS_FREIGHT  ALT_NUCL_EN_PERC  CEREAL_YIELD  \\\n",
       "6771        153.0  2010.0           1.216190          6.550348        3576.0   \n",
       "6772        153.0  2011.0           7.561770          7.704321        3461.1   \n",
       "6773        153.0  2012.0           5.672041          6.972635        3760.2   \n",
       "6774        153.0  2013.0           5.198784          8.247059        4007.3   \n",
       "6775        153.0  2014.0           4.068351          2.401774        4040.7   \n",
       "\n",
       "      CO2_EM_PC  CO2_EM_TOTAL  COMB_REN_WASTE_PERC  ELEC_PROD_COAL_PERC  \\\n",
       "6771   6.693450    190361.304             1.054280                  0.0   \n",
       "6772   5.931888    171362.577             1.121703                  0.0   \n",
       "6773   6.540353    192040.790             1.020756                  0.0   \n",
       "6774   6.176024    183944.054             1.073811                  0.0   \n",
       "6775   6.161192    185113.827            11.186967                  0.0   \n",
       "\n",
       "      ELEC_PROD_HYDRO_PERC  ...  FOSSIL_FUEL_EN_CONS_PERC  FUEL_IMPORT_PERC  \\\n",
       "6771             67.490001  ...                 89.812497          0.626019   \n",
       "6772             70.930223  ...                 88.126095          0.769236   \n",
       "6773             67.411408  ...                 89.258569          0.892059   \n",
       "6774             67.834524  ...                 88.377973          0.584178   \n",
       "6775             68.262704  ...                 75.558918         11.942561   \n",
       "\n",
       "      GDP_GROWTH_PERC        GDP_PC  METHANE_EM        NO2_EM  \\\n",
       "6771        -1.488791  13825.358088   57057.700  15819.734000   \n",
       "6772         4.176425  10955.349913   57628.277  15977.931340   \n",
       "6773         5.625957  12985.505325   58198.854  16136.128680   \n",
       "6774         1.343094  12456.712454   29056.750  12683.649014   \n",
       "6775        -3.894386  16054.490513   29056.750  12683.649014   \n",
       "\n",
       "      POP_GROWTH_PERC  POP_URBAN_AGG  URBAN_POP_GROWTH  URBAN_POP_TOTAL  \n",
       "6771         1.448313      30.035499          1.477832           88.083  \n",
       "6772         1.564456      29.885242          1.592835           88.108  \n",
       "6773         1.627756      29.728321          1.644780           88.123  \n",
       "6774         1.424032      29.636198          1.435380           88.133  \n",
       "6775         0.874378      29.709194          0.886858           88.144  \n",
       "\n",
       "[5 rows x 25 columns]"
      ]
     },
     "execution_count": 127,
     "metadata": {},
     "output_type": "execute_result"
    }
   ],
   "source": [
    "data_usa = data.loc[(data['CountryCode'] == 153)]\n",
    "data_usa.tail()"
   ]
  },
  {
   "cell_type": "code",
   "execution_count": 129,
   "id": "94beaff5-8c81-4ab3-bb01-d4f4d127703e",
   "metadata": {},
   "outputs": [
    {
     "data": {
      "text/plain": [
       "<AxesSubplot:xlabel='Year'>"
      ]
     },
     "execution_count": 129,
     "metadata": {},
     "output_type": "execute_result"
    },
    {
     "data": {
      "image/png": "[encoded data removed]",
      "text/plain": [
       "<Figure size 432x288 with 1 Axes>"
      ]
     },
     "metadata": {
      "needs_background": "light"
     },
     "output_type": "display_data"
    }
   ],
   "source": [
    "data_usa.plot(kind='line',x='Year',y='URBAN_POP_TOTAL')"
   ]
  },
  {
   "cell_type": "code",
   "execution_count": 128,
   "id": "b793b1b4-a7dc-4c4d-a3b3-310382b07d69",
   "metadata": {},
   "outputs": [
    {
     "data": {
      "image/png": "[encoded data removed]",
      "text/plain": [
       "<Figure size 900x684 with 2 Axes>"
      ]
     },
     "metadata": {
      "needs_background": "light"
     },
     "output_type": "display_data"
    }
   ],
   "source": [
    "fig = plt.figure()\n",
    "fig.set_size_inches(12.5, 9.5)\n",
    "\n",
    "plt.subplot(2, 1, 1)\n",
    "plt.plot(data_usa['Year'],data_usa['CO2_EM_PC'])\n",
    "plt.ylabel('CO2 Emissions Per Capita')\n",
    "\n",
    "plt.subplot(2, 1, 2)\n",
    "plt.plot(data_usa['Year'],data_usa['URBAN_POP_GROWTH'])\n",
    "plt.ylabel(\"URBAN_POP_GROWTH\")\n",
    "plt.xlabel('Year')\n",
    "\n",
    "plt.show()"
   ]
  },
  {
   "cell_type": "code",
   "execution_count": 59,
   "id": "76d0cb9e-3c3d-4931-9e89-e0b34773eda4",
   "metadata": {},
   "outputs": [],
   "source": [
    "selected_data = data_usa"
   ]
  },
  {
   "cell_type": "code",
   "execution_count": 60,
   "id": "797c32b9-c230-4233-9eba-10a2f9b53c0a",
   "metadata": {},
   "outputs": [],
   "source": [
    "from sklearn.linear_model import LinearRegression\n",
    "from sklearn.model_selection import train_test_split"
   ]
  },
  {
   "cell_type": "code",
   "execution_count": 130,
   "id": "87e15744-d0bd-40a5-875e-0a68da11e602",
   "metadata": {},
   "outputs": [],
   "source": [
    "X_train,X_test,y_train,y_test = train_test_split(selected_data['Year'].values.reshape(-1, 1),selected_data[['NO2_EM']].values,test_size= 0.2)   # split the dataset with 10% test data "
   ]
  },
  {
   "cell_type": "code",
   "execution_count": 131,
   "id": "7272881e-3f12-4ef4-b43b-5db60bbb41f1",
   "metadata": {},
   "outputs": [
    {
     "data": {
      "text/plain": [
       "LinearRegression()"
      ]
     },
     "execution_count": 131,
     "metadata": {},
     "output_type": "execute_result"
    }
   ],
   "source": [
    "reg = LinearRegression()                  # start the clasifier\n",
    "reg.fit(X_train,y_train)                  # fit the model"
   ]
  },
  {
   "cell_type": "code",
   "execution_count": 132,
   "id": "23459e5e-b8b2-4936-a837-c74a11242664",
   "metadata": {},
   "outputs": [
    {
     "name": "stdout",
     "output_type": "stream",
     "text": [
      "Score : 0.7483200805435719\n"
     ]
    }
   ],
   "source": [
    "print('Score :' ,reg.score(X_test.reshape(-1,1),y_test))    # Accuracy score on test data"
   ]
  },
  {
   "cell_type": "code",
   "execution_count": 133,
   "id": "0e573945-7caa-4c2c-9d22-fb9495811161",
   "metadata": {},
   "outputs": [],
   "source": [
    "x_line = np.arange(1970,2050).reshape(-1,1)                 # lining Year upto 2050\n",
    "p = reg.predict(x_line).T                                   # predict the labels "
   ]
  },
  {
   "cell_type": "code",
   "execution_count": 134,
   "id": "43a81e33-3d83-4e53-8e59-6a3f6de0e0fc",
   "metadata": {},
   "outputs": [
    {
     "data": {
      "image/png": "[encoded data removed]",
      "text/plain": [
       "<Figure size 900x684 with 1 Axes>"
      ]
     },
     "metadata": {
      "needs_background": "light"
     },
     "output_type": "display_data"
    }
   ],
   "source": [
    "# 2d plots\n",
    "fig = plt.figure()\n",
    "fig.set_size_inches(12.5, 9.5)\n",
    "\n",
    "plt.subplot(2, 1, 1)\n",
    "plt.plot(selected_data['Year'],selected_data['NO2_EM'],label='Given')\n",
    "plt.plot(x_line,p[0], color='red',label='Predicted')\n",
    "plt.ylabel('GDP Per Capita')\n",
    "plt.legend()\n",
    "\n",
    "\n",
    "plt.show()"
   ]
  },
  {
   "cell_type": "code",
   "execution_count": null,
   "id": "4564ad14-2e88-442f-b544-0ab11b48fdf7",
   "metadata": {},
   "outputs": [],
   "source": []
  }
 ],
 "metadata": {
  "kernelspec": {
   "display_name": "Python 3 (ipykernel)",
   "language": "python",
   "name": "python3"
  },
  "language_info": {
   "codemirror_mode": {
    "name": "ipython",
    "version": 3
   },
   "file_extension": ".py",
   "mimetype": "text/x-python",
   "name": "python",
   "nbconvert_exporter": "python",
   "pygments_lexer": "ipython3",
   "version": "3.9.7"
  }
 },
 "nbformat": 4,
 "nbformat_minor": 5
}
