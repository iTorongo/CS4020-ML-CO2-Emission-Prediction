{
 "cells": [
  {
   "cell_type": "markdown",
   "id": "75bd8a6a-73f8-445a-8280-f7a901a336d5",
   "metadata": {},
   "source": [
    "# Carbon Emission Prediction Using Machine Learing"
   ]
  },
  {
   "cell_type": "markdown",
   "id": "b7a544f9-5dc0-4246-bfa8-3fd7fe858aff",
   "metadata": {},
   "source": [
    "Carbon emission is said to be one of the most critical reasons of global warming. This project aims to provide a country-wise overview of the future trends of carbon emission as well as a global trend prediction for next ten years. The approach is to analyse the historical data for these countries various economic factors, learn them, and make future predictions."
   ]
  },
  {
   "cell_type": "markdown",
   "id": "5557bec1-475c-45aa-9f95-ed864ee83899",
   "metadata": {},
   "source": [
    "Dataset:\n",
    "https://www.kaggle.com/manchunhui/world-co2-emissions-analysis/"
   ]
  },
  {
   "cell_type": "markdown",
   "id": "e70c88fa-0644-4b89-9376-1885583a8f26",
   "metadata": {},
   "source": [
    "# Summary\n",
    "\n",
    "Algorithm selection is one of the vital parts of machine learning after data cleaning and preprocessing. Since it is a supervised learning and this problem required prediction of continues value, regression algorithms are the way to follow. There are several regression algorithms out there. In this notebook as part of the model selection process four different algorithms have been trained and tested, and finally the best algorithm has been selected to tune and take forward. \n",
    "\n",
    "The accounted algorithms are:\n",
    "* Linear Regression\n",
    "* Decision Tree Regression\n",
    "* Random Forest Regression\n",
    "* Support Vector Machine"
   ]
  },
  {
   "cell_type": "markdown",
   "id": "4b948141-c1ff-4ea3-9aaa-a915ad59a9f1",
   "metadata": {},
   "source": [
    "# Alogorithm Selection"
   ]
  },
  {
   "cell_type": "markdown",
   "id": "ef47c8ad-bd10-4399-8156-f9b9081a0a9a",
   "metadata": {},
   "source": [
    "## Import libraries and read dataset"
   ]
  },
  {
   "cell_type": "code",
   "execution_count": 1,
   "id": "cb751b6c",
   "metadata": {},
   "outputs": [],
   "source": [
    "# import all necessary libraries\n",
    "import pandas as pd\n",
    "import numpy as np\n",
    "import numpy.random as nr\n",
    "import sys\n",
    "import seaborn as sns\n",
    "import matplotlib.pyplot as plt\n",
    "\n",
    "from sklearn.linear_model import LinearRegression, Lasso, Ridge\n",
    "from sklearn.tree import DecisionTreeRegressor\n",
    "from sklearn.svm import SVR\n",
    "from sklearn.metrics import mean_squared_error ,r2_score, mean_absolute_error\n",
    "\n",
    "from sklearn.preprocessing import StandardScaler"
   ]
  },
  {
   "cell_type": "code",
   "execution_count": 2,
   "id": "7540a12f",
   "metadata": {},
   "outputs": [],
   "source": [
    "# Load the dataset into dataframe\n",
    "data = pd.read_csv('../dataset/processed/data_preprocessed.csv')"
   ]
  },
  {
   "cell_type": "code",
   "execution_count": 3,
   "id": "1eedaca4",
   "metadata": {},
   "outputs": [
    {
     "data": {
      "text/plain": [
       "(7040, 25)"
      ]
     },
     "execution_count": 3,
     "metadata": {},
     "output_type": "execute_result"
    }
   ],
   "source": [
    "# Check the dataframe shape\n",
    "data.shape"
   ]
  },
  {
   "cell_type": "code",
   "execution_count": 6,
   "id": "757f958a-9836-4e08-ab65-aea5e9cc5753",
   "metadata": {},
   "outputs": [
    {
     "data": {
      "text/html": [
       "<div>\n",
       "<style scoped>\n",
       "    .dataframe tbody tr th:only-of-type {\n",
       "        vertical-align: middle;\n",
       "    }\n",
       "\n",
       "    .dataframe tbody tr th {\n",
       "        vertical-align: top;\n",
       "    }\n",
       "\n",
       "    .dataframe thead th {\n",
       "        text-align: right;\n",
       "    }\n",
       "</style>\n",
       "<table border=\"1\" class=\"dataframe\">\n",
       "  <thead>\n",
       "    <tr style=\"text-align: right;\">\n",
       "      <th></th>\n",
       "      <th>CountryCode</th>\n",
       "      <th>Year</th>\n",
       "      <th>AIR_TRANS_FREIGHT</th>\n",
       "      <th>ALT_NUCL_EN_PERC</th>\n",
       "      <th>CEREAL_YIELD</th>\n",
       "      <th>CO2_EM_PC</th>\n",
       "      <th>CO2_EM_TOTAL</th>\n",
       "      <th>COMB_REN_WASTE_PERC</th>\n",
       "      <th>ELEC_PROD_COAL_PERC</th>\n",
       "      <th>ELEC_PROD_HYDRO_PERC</th>\n",
       "      <th>...</th>\n",
       "      <th>FOSSIL_FUEL_EN_CONS_PERC</th>\n",
       "      <th>FUEL_IMPORT_PERC</th>\n",
       "      <th>GDP_GROWTH_PERC</th>\n",
       "      <th>GDP_PC</th>\n",
       "      <th>METHANE_EM</th>\n",
       "      <th>NO2_EM</th>\n",
       "      <th>POP_GROWTH_PERC</th>\n",
       "      <th>POP_URBAN_AGG</th>\n",
       "      <th>URBAN_POP_GROWTH</th>\n",
       "      <th>URBAN_POP_TOTAL</th>\n",
       "    </tr>\n",
       "  </thead>\n",
       "  <tbody>\n",
       "    <tr>\n",
       "      <th>0</th>\n",
       "      <td>0.0</td>\n",
       "      <td>1971.0</td>\n",
       "      <td>179.560502</td>\n",
       "      <td>1.351166</td>\n",
       "      <td>805.7</td>\n",
       "      <td>0.564548</td>\n",
       "      <td>3410.310</td>\n",
       "      <td>82.814638</td>\n",
       "      <td>0.0</td>\n",
       "      <td>81.536388</td>\n",
       "      <td>...</td>\n",
       "      <td>15.834196</td>\n",
       "      <td>3.008041</td>\n",
       "      <td>3.897323</td>\n",
       "      <td>2133.368871</td>\n",
       "      <td>14500.0</td>\n",
       "      <td>15844.224</td>\n",
       "      <td>2.521468</td>\n",
       "      <td>8.088198</td>\n",
       "      <td>6.935496</td>\n",
       "      <td>15.632</td>\n",
       "    </tr>\n",
       "    <tr>\n",
       "      <th>1</th>\n",
       "      <td>0.0</td>\n",
       "      <td>1972.0</td>\n",
       "      <td>179.560502</td>\n",
       "      <td>1.410646</td>\n",
       "      <td>780.3</td>\n",
       "      <td>0.721246</td>\n",
       "      <td>4506.743</td>\n",
       "      <td>77.328549</td>\n",
       "      <td>0.0</td>\n",
       "      <td>81.145585</td>\n",
       "      <td>...</td>\n",
       "      <td>21.260806</td>\n",
       "      <td>4.912853</td>\n",
       "      <td>3.897323</td>\n",
       "      <td>2133.368871</td>\n",
       "      <td>15590.0</td>\n",
       "      <td>16758.848</td>\n",
       "      <td>3.381711</td>\n",
       "      <td>8.226706</td>\n",
       "      <td>8.512645</td>\n",
       "      <td>16.455</td>\n",
       "    </tr>\n",
       "    <tr>\n",
       "      <th>2</th>\n",
       "      <td>0.0</td>\n",
       "      <td>1973.0</td>\n",
       "      <td>179.560502</td>\n",
       "      <td>1.694730</td>\n",
       "      <td>764.0</td>\n",
       "      <td>0.751240</td>\n",
       "      <td>4880.777</td>\n",
       "      <td>78.198305</td>\n",
       "      <td>0.0</td>\n",
       "      <td>82.723577</td>\n",
       "      <td>...</td>\n",
       "      <td>20.106941</td>\n",
       "      <td>5.225642</td>\n",
       "      <td>3.897323</td>\n",
       "      <td>2133.368871</td>\n",
       "      <td>16651.7</td>\n",
       "      <td>17638.938</td>\n",
       "      <td>3.898493</td>\n",
       "      <td>8.323290</td>\n",
       "      <td>8.964003</td>\n",
       "      <td>17.310</td>\n",
       "    </tr>\n",
       "    <tr>\n",
       "      <th>3</th>\n",
       "      <td>0.0</td>\n",
       "      <td>1974.0</td>\n",
       "      <td>179.560502</td>\n",
       "      <td>1.748593</td>\n",
       "      <td>712.6</td>\n",
       "      <td>0.720776</td>\n",
       "      <td>4873.443</td>\n",
       "      <td>77.325302</td>\n",
       "      <td>0.0</td>\n",
       "      <td>69.812856</td>\n",
       "      <td>...</td>\n",
       "      <td>20.926104</td>\n",
       "      <td>4.493266</td>\n",
       "      <td>3.897323</td>\n",
       "      <td>2133.368871</td>\n",
       "      <td>15008.3</td>\n",
       "      <td>14997.738</td>\n",
       "      <td>3.989233</td>\n",
       "      <td>8.413978</td>\n",
       "      <td>9.013923</td>\n",
       "      <td>18.202</td>\n",
       "    </tr>\n",
       "    <tr>\n",
       "      <th>4</th>\n",
       "      <td>0.0</td>\n",
       "      <td>1975.0</td>\n",
       "      <td>179.560502</td>\n",
       "      <td>1.982570</td>\n",
       "      <td>773.9</td>\n",
       "      <td>0.628569</td>\n",
       "      <td>4415.068</td>\n",
       "      <td>80.191191</td>\n",
       "      <td>0.0</td>\n",
       "      <td>72.796935</td>\n",
       "      <td>...</td>\n",
       "      <td>17.826264</td>\n",
       "      <td>11.942561</td>\n",
       "      <td>3.897323</td>\n",
       "      <td>2133.368871</td>\n",
       "      <td>17061.4</td>\n",
       "      <td>17645.913</td>\n",
       "      <td>3.810585</td>\n",
       "      <td>8.520843</td>\n",
       "      <td>8.772812</td>\n",
       "      <td>19.128</td>\n",
       "    </tr>\n",
       "  </tbody>\n",
       "</table>\n",
       "<p>5 rows × 25 columns</p>\n",
       "</div>"
      ],
      "text/plain": [
       "   CountryCode    Year  AIR_TRANS_FREIGHT  ALT_NUCL_EN_PERC  CEREAL_YIELD  \\\n",
       "0          0.0  1971.0         179.560502          1.351166         805.7   \n",
       "1          0.0  1972.0         179.560502          1.410646         780.3   \n",
       "2          0.0  1973.0         179.560502          1.694730         764.0   \n",
       "3          0.0  1974.0         179.560502          1.748593         712.6   \n",
       "4          0.0  1975.0         179.560502          1.982570         773.9   \n",
       "\n",
       "   CO2_EM_PC  CO2_EM_TOTAL  COMB_REN_WASTE_PERC  ELEC_PROD_COAL_PERC  \\\n",
       "0   0.564548      3410.310            82.814638                  0.0   \n",
       "1   0.721246      4506.743            77.328549                  0.0   \n",
       "2   0.751240      4880.777            78.198305                  0.0   \n",
       "3   0.720776      4873.443            77.325302                  0.0   \n",
       "4   0.628569      4415.068            80.191191                  0.0   \n",
       "\n",
       "   ELEC_PROD_HYDRO_PERC  ...  FOSSIL_FUEL_EN_CONS_PERC  FUEL_IMPORT_PERC  \\\n",
       "0             81.536388  ...                 15.834196          3.008041   \n",
       "1             81.145585  ...                 21.260806          4.912853   \n",
       "2             82.723577  ...                 20.106941          5.225642   \n",
       "3             69.812856  ...                 20.926104          4.493266   \n",
       "4             72.796935  ...                 17.826264         11.942561   \n",
       "\n",
       "   GDP_GROWTH_PERC       GDP_PC  METHANE_EM     NO2_EM  POP_GROWTH_PERC  \\\n",
       "0         3.897323  2133.368871     14500.0  15844.224         2.521468   \n",
       "1         3.897323  2133.368871     15590.0  16758.848         3.381711   \n",
       "2         3.897323  2133.368871     16651.7  17638.938         3.898493   \n",
       "3         3.897323  2133.368871     15008.3  14997.738         3.989233   \n",
       "4         3.897323  2133.368871     17061.4  17645.913         3.810585   \n",
       "\n",
       "   POP_URBAN_AGG  URBAN_POP_GROWTH  URBAN_POP_TOTAL  \n",
       "0       8.088198          6.935496           15.632  \n",
       "1       8.226706          8.512645           16.455  \n",
       "2       8.323290          8.964003           17.310  \n",
       "3       8.413978          9.013923           18.202  \n",
       "4       8.520843          8.772812           19.128  \n",
       "\n",
       "[5 rows x 25 columns]"
      ]
     },
     "execution_count": 6,
     "metadata": {},
     "output_type": "execute_result"
    }
   ],
   "source": [
    "# Check summary of dataframe\n",
    "data.head()"
   ]
  },
  {
   "cell_type": "markdown",
   "id": "03cc5b49-77d6-433e-b8c6-c6814c788bd6",
   "metadata": {},
   "source": [
    "## Features and label selection "
   ]
  },
  {
   "cell_type": "code",
   "execution_count": 7,
   "id": "8f9afb95",
   "metadata": {},
   "outputs": [],
   "source": [
    "# Pick features from the dataframe dropping the label column\n",
    "X = data.drop('CO2_EM_PC', axis=1)\n",
    "# Pick label from the dataframe\n",
    "y = data['CO2_EM_PC']"
   ]
  },
  {
   "cell_type": "markdown",
   "id": "c76e7436-65d2-49e2-8a1d-1ec47aab2914",
   "metadata": {},
   "source": [
    "## Splitting training and test set"
   ]
  },
  {
   "cell_type": "code",
   "execution_count": 8,
   "id": "3d3c5bdc",
   "metadata": {},
   "outputs": [],
   "source": [
    "# Splitting of traing testing set into X and y\n",
    "# Take 40% data for testing subset\n",
    "from sklearn.model_selection import train_test_split\n",
    "X_train,X_test, y_train, y_test = train_test_split(X, y, test_size=0.4, random_state=42)"
   ]
  },
  {
   "cell_type": "markdown",
   "id": "efbf2524-6637-4ffd-b256-4a2a5bf5b3e0",
   "metadata": {},
   "source": [
    "## Feature scaling\n",
    "\n",
    "It is important to scale the features for optimal predictions for all the algorithms except the random forest regression. The scaling helps model getting fitted correct feature values event though the weight of the feature values may or may not be the same. "
   ]
  },
  {
   "cell_type": "code",
   "execution_count": 9,
   "id": "4df6b371",
   "metadata": {},
   "outputs": [],
   "source": [
    "# Define scalater from sklearn library\n",
    "scaler = StandardScaler()\n",
    "# Scale features and label\n",
    "X_train = scaler.fit_transform(X_train)\n",
    "X_test = scaler.transform(X_test)"
   ]
  },
  {
   "cell_type": "markdown",
   "id": "bdd784b1-d306-48a0-8688-4aabc83853a9",
   "metadata": {},
   "source": [
    "# Algorithms"
   ]
  },
  {
   "cell_type": "markdown",
   "id": "df206cac-661c-4a59-9e5b-2a17d37d3636",
   "metadata": {},
   "source": [
    "## Linear Regression"
   ]
  },
  {
   "cell_type": "code",
   "execution_count": 10,
   "id": "34609254",
   "metadata": {},
   "outputs": [
    {
     "data": {
      "text/plain": [
       "LinearRegression()"
      ]
     },
     "execution_count": 10,
     "metadata": {},
     "output_type": "execute_result"
    }
   ],
   "source": [
    "# Define model\n",
    "model = LinearRegression()\n",
    "model.fit(X_train, y_train)"
   ]
  },
  {
   "cell_type": "code",
   "execution_count": 11,
   "id": "f6804e1d",
   "metadata": {},
   "outputs": [
    {
     "data": {
      "text/plain": [
       "4.683442041468609"
      ]
     },
     "execution_count": 11,
     "metadata": {},
     "output_type": "execute_result"
    }
   ],
   "source": [
    "# View model intercept\n",
    "model.intercept_"
   ]
  },
  {
   "cell_type": "code",
   "execution_count": 12,
   "id": "ff7a773c",
   "metadata": {},
   "outputs": [
    {
     "data": {
      "text/plain": [
       "array([ 2.80980523e-01, -3.31752353e-01, -5.21775176e-02, -8.00497886e-01,\n",
       "        4.16870505e-01,  5.96584795e-01,  1.27663706e+00, -1.16764280e+00,\n",
       "       -1.32174863e+00, -9.64940562e-01, -3.71204120e-01, -1.38850907e+00,\n",
       "       -4.17247058e-01,  4.16258633e+00,  1.71417480e+00, -7.59737179e-04,\n",
       "       -1.11849402e-02, -6.18471853e-02, -2.45845154e-01, -1.02078133e-01,\n",
       "        1.69595654e-01,  5.01297045e-02, -1.85779898e-01,  8.72509512e-01])"
      ]
     },
     "execution_count": 12,
     "metadata": {},
     "output_type": "execute_result"
    }
   ],
   "source": [
    "# View model co-efficient\n",
    "model.coef_"
   ]
  },
  {
   "cell_type": "code",
   "execution_count": 13,
   "id": "9ac95875",
   "metadata": {},
   "outputs": [
    {
     "data": {
      "text/plain": [
       "array([ 3.38426293, 23.94935321, 10.62699117, ...,  1.35790406,\n",
       "        8.67727694, -0.24360457])"
      ]
     },
     "execution_count": 13,
     "metadata": {},
     "output_type": "execute_result"
    }
   ],
   "source": [
    "# Make predictions\n",
    "y_pred = model.predict(X_test)\n",
    "y_pred"
   ]
  },
  {
   "cell_type": "code",
   "execution_count": 14,
   "id": "946fb6a9",
   "metadata": {},
   "outputs": [
    {
     "data": {
      "text/plain": [
       "2.175468538597582"
      ]
     },
     "execution_count": 14,
     "metadata": {},
     "output_type": "execute_result"
    }
   ],
   "source": [
    "# Mean Squared Error\n",
    "np.sqrt(mean_squared_error(y_test, y_pred))"
   ]
  },
  {
   "cell_type": "code",
   "execution_count": 15,
   "id": "129d2afb",
   "metadata": {},
   "outputs": [
    {
     "data": {
      "text/plain": [
       "0.8352645586452483"
      ]
     },
     "execution_count": 15,
     "metadata": {},
     "output_type": "execute_result"
    }
   ],
   "source": [
    "# R2 score\n",
    "r2_score(y_test, y_pred)"
   ]
  },
  {
   "cell_type": "code",
   "execution_count": 16,
   "id": "967c4087",
   "metadata": {},
   "outputs": [],
   "source": [
    "# Frame predicted values\n",
    "frames = [y_pred, y_test.values]\n",
    "result_pred = pd.DataFrame(data=frames)\n",
    "result_pred = result_pred.T"
   ]
  },
  {
   "cell_type": "code",
   "execution_count": 17,
   "id": "5818d952",
   "metadata": {},
   "outputs": [
    {
     "data": {
      "text/html": [
       "<div>\n",
       "<style scoped>\n",
       "    .dataframe tbody tr th:only-of-type {\n",
       "        vertical-align: middle;\n",
       "    }\n",
       "\n",
       "    .dataframe tbody tr th {\n",
       "        vertical-align: top;\n",
       "    }\n",
       "\n",
       "    .dataframe thead th {\n",
       "        text-align: right;\n",
       "    }\n",
       "</style>\n",
       "<table border=\"1\" class=\"dataframe\">\n",
       "  <thead>\n",
       "    <tr style=\"text-align: right;\">\n",
       "      <th></th>\n",
       "      <th>pred_values</th>\n",
       "      <th>real_values</th>\n",
       "    </tr>\n",
       "  </thead>\n",
       "  <tbody>\n",
       "    <tr>\n",
       "      <th>0</th>\n",
       "      <td>3.38</td>\n",
       "      <td>1.480830</td>\n",
       "    </tr>\n",
       "    <tr>\n",
       "      <th>1</th>\n",
       "      <td>23.95</td>\n",
       "      <td>26.146800</td>\n",
       "    </tr>\n",
       "    <tr>\n",
       "      <th>2</th>\n",
       "      <td>10.63</td>\n",
       "      <td>11.951632</td>\n",
       "    </tr>\n",
       "    <tr>\n",
       "      <th>3</th>\n",
       "      <td>-0.00</td>\n",
       "      <td>0.138630</td>\n",
       "    </tr>\n",
       "    <tr>\n",
       "      <th>4</th>\n",
       "      <td>4.59</td>\n",
       "      <td>4.377988</td>\n",
       "    </tr>\n",
       "    <tr>\n",
       "      <th>...</th>\n",
       "      <td>...</td>\n",
       "      <td>...</td>\n",
       "    </tr>\n",
       "    <tr>\n",
       "      <th>2811</th>\n",
       "      <td>0.31</td>\n",
       "      <td>0.522618</td>\n",
       "    </tr>\n",
       "    <tr>\n",
       "      <th>2812</th>\n",
       "      <td>20.55</td>\n",
       "      <td>27.431434</td>\n",
       "    </tr>\n",
       "    <tr>\n",
       "      <th>2813</th>\n",
       "      <td>1.36</td>\n",
       "      <td>1.232285</td>\n",
       "    </tr>\n",
       "    <tr>\n",
       "      <th>2814</th>\n",
       "      <td>8.68</td>\n",
       "      <td>9.340093</td>\n",
       "    </tr>\n",
       "    <tr>\n",
       "      <th>2815</th>\n",
       "      <td>-0.24</td>\n",
       "      <td>0.077644</td>\n",
       "    </tr>\n",
       "  </tbody>\n",
       "</table>\n",
       "<p>2816 rows × 2 columns</p>\n",
       "</div>"
      ],
      "text/plain": [
       "      pred_values  real_values\n",
       "0            3.38     1.480830\n",
       "1           23.95    26.146800\n",
       "2           10.63    11.951632\n",
       "3           -0.00     0.138630\n",
       "4            4.59     4.377988\n",
       "...           ...          ...\n",
       "2811         0.31     0.522618\n",
       "2812        20.55    27.431434\n",
       "2813         1.36     1.232285\n",
       "2814         8.68     9.340093\n",
       "2815        -0.24     0.077644\n",
       "\n",
       "[2816 rows x 2 columns]"
      ]
     },
     "execution_count": 17,
     "metadata": {},
     "output_type": "execute_result"
    }
   ],
   "source": [
    "# Generate line from real and predicted values\n",
    "lin_pred = result_pred.rename(columns={0: 'pred_values',1:'real_values'})\n",
    "lin_pred['pred_values'] = lin_pred['pred_values'].map(lambda x: round(x,2))\n",
    "# Show comparison\n",
    "lin_pred"
   ]
  },
  {
   "cell_type": "code",
   "execution_count": 18,
   "id": "7b558937",
   "metadata": {},
   "outputs": [
    {
     "name": "stdout",
     "output_type": "stream",
     "text": [
      "mean diff:  1.2499109116014042\n"
     ]
    }
   ],
   "source": [
    "# Error margin\n",
    "lin_pred['diff'] = abs(lin_pred['pred_values'] - lin_pred['real_values'])\n",
    "print('mean diff: ', (abs(lin_pred['diff']).mean()))"
   ]
  },
  {
   "cell_type": "code",
   "execution_count": 19,
   "id": "04407bf9",
   "metadata": {},
   "outputs": [
    {
     "data": {
      "text/plain": [
       "<AxesSubplot:xlabel='CO2_EM_PC', ylabel='Count'>"
      ]
     },
     "execution_count": 19,
     "metadata": {},
     "output_type": "execute_result"
    },
    {
     "data": {
      "image/png": "[encoded data removed]",
      "text/plain": [
       "<Figure size 432x288 with 1 Axes>"
      ]
     },
     "metadata": {
      "needs_background": "light"
     },
     "output_type": "display_data"
    }
   ],
   "source": [
    "# Plot test data with predicted data\n",
    "sns.histplot(y_pred-y_test)"
   ]
  },
  {
   "cell_type": "code",
   "execution_count": 20,
   "id": "c77d04dd",
   "metadata": {},
   "outputs": [
    {
     "data": {
      "text/plain": [
       "Text(0, 0.5, 'y_pred')"
      ]
     },
     "execution_count": 20,
     "metadata": {},
     "output_type": "execute_result"
    },
    {
     "data": {
      "image/png": "[encoded data removed]",
      "text/plain": [
       "<Figure size 432x288 with 1 Axes>"
      ]
     },
     "metadata": {
      "needs_background": "light"
     },
     "output_type": "display_data"
    }
   ],
   "source": [
    "plt.scatter( y_test,y_pred)\n",
    "plt.xlabel('y_test')\n",
    "plt.ylabel('y_pred')"
   ]
  },
  {
   "cell_type": "code",
   "execution_count": 21,
   "id": "36e5dbf4",
   "metadata": {},
   "outputs": [
    {
     "data": {
      "image/png": "[encoded data removed]",
      "text/plain": [
       "<Figure size 432x288 with 1 Axes>"
      ]
     },
     "metadata": {
      "needs_background": "light"
     },
     "output_type": "display_data"
    },
    {
     "data": {
      "image/png": "[encoded data removed]",
      "text/plain": [
       "<Figure size 432x288 with 1 Axes>"
      ]
     },
     "metadata": {
      "needs_background": "light"
     },
     "output_type": "display_data"
    }
   ],
   "source": [
    "sns.histplot(y_pred, bins=20,color='red')\n",
    "plt.show()\n",
    "sns.histplot(data['CO2_EM_PC'], bins=20)\n",
    "plt.show()"
   ]
  },
  {
   "cell_type": "markdown",
   "id": "d4bbd3ac-d5b2-4349-8fbf-7cdcce2b8d5b",
   "metadata": {},
   "source": [
    "## Decision Tree Regression"
   ]
  },
  {
   "cell_type": "code",
   "execution_count": 22,
   "id": "3682fd3e",
   "metadata": {},
   "outputs": [
    {
     "data": {
      "text/plain": [
       "DecisionTreeRegressor(random_state=42)"
      ]
     },
     "execution_count": 22,
     "metadata": {},
     "output_type": "execute_result"
    }
   ],
   "source": [
    "# Import decision tree regression algorithm from Sklearn\n",
    "from sklearn.tree import DecisionTreeRegressor\n",
    "# Train the model\n",
    "model = DecisionTreeRegressor(random_state = 42)\n",
    "model.fit(X_train, y_train)"
   ]
  },
  {
   "cell_type": "code",
   "execution_count": 23,
   "id": "e5355148",
   "metadata": {},
   "outputs": [
    {
     "data": {
      "text/plain": [
       "array([ 1.6674123 , 24.30514892,  6.08224227, ...,  1.25614581,\n",
       "        8.83664294,  0.0800615 ])"
      ]
     },
     "execution_count": 23,
     "metadata": {},
     "output_type": "execute_result"
    }
   ],
   "source": [
    "# Make predictions\n",
    "dtr_pred = model.predict(X_test)\n",
    "dtr_pred"
   ]
  },
  {
   "cell_type": "code",
   "execution_count": 24,
   "id": "47bd1e72",
   "metadata": {},
   "outputs": [
    {
     "data": {
      "text/plain": [
       "1.0766627592488185"
      ]
     },
     "execution_count": 24,
     "metadata": {},
     "output_type": "execute_result"
    }
   ],
   "source": [
    "# Mean Squared Error\n",
    "np.sqrt(mean_squared_error(y_test,dtr_pred ))"
   ]
  },
  {
   "cell_type": "code",
   "execution_count": 25,
   "id": "75d6876f",
   "metadata": {},
   "outputs": [
    {
     "data": {
      "text/plain": [
       "0.959650253290528"
      ]
     },
     "execution_count": 25,
     "metadata": {},
     "output_type": "execute_result"
    }
   ],
   "source": [
    "# R2 score\n",
    "r2_score(y_test, dtr_pred)"
   ]
  },
  {
   "cell_type": "code",
   "execution_count": 26,
   "id": "11b7476a",
   "metadata": {},
   "outputs": [
    {
     "data": {
      "text/html": [
       "<div>\n",
       "<style scoped>\n",
       "    .dataframe tbody tr th:only-of-type {\n",
       "        vertical-align: middle;\n",
       "    }\n",
       "\n",
       "    .dataframe tbody tr th {\n",
       "        vertical-align: top;\n",
       "    }\n",
       "\n",
       "    .dataframe thead th {\n",
       "        text-align: right;\n",
       "    }\n",
       "</style>\n",
       "<table border=\"1\" class=\"dataframe\">\n",
       "  <thead>\n",
       "    <tr style=\"text-align: right;\">\n",
       "      <th></th>\n",
       "      <th>0</th>\n",
       "      <th>1</th>\n",
       "    </tr>\n",
       "  </thead>\n",
       "  <tbody>\n",
       "    <tr>\n",
       "      <th>0</th>\n",
       "      <td>1.667412</td>\n",
       "      <td>1.480830</td>\n",
       "    </tr>\n",
       "    <tr>\n",
       "      <th>1</th>\n",
       "      <td>24.305149</td>\n",
       "      <td>26.146800</td>\n",
       "    </tr>\n",
       "    <tr>\n",
       "      <th>2</th>\n",
       "      <td>6.082242</td>\n",
       "      <td>11.951632</td>\n",
       "    </tr>\n",
       "    <tr>\n",
       "      <th>3</th>\n",
       "      <td>0.135983</td>\n",
       "      <td>0.138630</td>\n",
       "    </tr>\n",
       "    <tr>\n",
       "      <th>4</th>\n",
       "      <td>4.911682</td>\n",
       "      <td>4.377988</td>\n",
       "    </tr>\n",
       "  </tbody>\n",
       "</table>\n",
       "</div>"
      ],
      "text/plain": [
       "           0          1\n",
       "0   1.667412   1.480830\n",
       "1  24.305149  26.146800\n",
       "2   6.082242  11.951632\n",
       "3   0.135983   0.138630\n",
       "4   4.911682   4.377988"
      ]
     },
     "execution_count": 26,
     "metadata": {},
     "output_type": "execute_result"
    }
   ],
   "source": [
    "# Generate frame from test values and predicted values\n",
    "frames = [dtr_pred, y_test.values]\n",
    "result_pred = pd.DataFrame(data=frames)\n",
    "result_pred = result_pred.T\n",
    "result_pred.head()"
   ]
  },
  {
   "cell_type": "code",
   "execution_count": 27,
   "id": "411d9079",
   "metadata": {},
   "outputs": [
    {
     "name": "stdout",
     "output_type": "stream",
     "text": [
      "mean diff:  0.3782295130589391\n"
     ]
    }
   ],
   "source": [
    "# View error margin\n",
    "dtr_pred = result_pred.rename(columns={0: 'pred_values', 1:'real_values'})\n",
    "dtr_pred['pred_values'] = (dtr_pred['pred_values'].map(lambda x: round(x,2)))\n",
    "dtr_pred['diff'] = abs(dtr_pred['real_values'] -dtr_pred['pred_values'])\n",
    "print('mean diff: ', abs(dtr_pred['diff']).mean())"
   ]
  },
  {
   "cell_type": "code",
   "execution_count": 28,
   "id": "74ef1c34",
   "metadata": {},
   "outputs": [
    {
     "data": {
      "text/html": [
       "<div>\n",
       "<style scoped>\n",
       "    .dataframe tbody tr th:only-of-type {\n",
       "        vertical-align: middle;\n",
       "    }\n",
       "\n",
       "    .dataframe tbody tr th {\n",
       "        vertical-align: top;\n",
       "    }\n",
       "\n",
       "    .dataframe thead th {\n",
       "        text-align: right;\n",
       "    }\n",
       "</style>\n",
       "<table border=\"1\" class=\"dataframe\">\n",
       "  <thead>\n",
       "    <tr style=\"text-align: right;\">\n",
       "      <th></th>\n",
       "      <th>pred_values</th>\n",
       "      <th>real_values</th>\n",
       "      <th>diff</th>\n",
       "    </tr>\n",
       "  </thead>\n",
       "  <tbody>\n",
       "    <tr>\n",
       "      <th>0</th>\n",
       "      <td>1.67</td>\n",
       "      <td>1.480830</td>\n",
       "      <td>0.189170</td>\n",
       "    </tr>\n",
       "    <tr>\n",
       "      <th>1</th>\n",
       "      <td>24.31</td>\n",
       "      <td>26.146800</td>\n",
       "      <td>1.836800</td>\n",
       "    </tr>\n",
       "    <tr>\n",
       "      <th>2</th>\n",
       "      <td>6.08</td>\n",
       "      <td>11.951632</td>\n",
       "      <td>5.871632</td>\n",
       "    </tr>\n",
       "    <tr>\n",
       "      <th>3</th>\n",
       "      <td>0.14</td>\n",
       "      <td>0.138630</td>\n",
       "      <td>0.001370</td>\n",
       "    </tr>\n",
       "    <tr>\n",
       "      <th>4</th>\n",
       "      <td>4.91</td>\n",
       "      <td>4.377988</td>\n",
       "      <td>0.532012</td>\n",
       "    </tr>\n",
       "    <tr>\n",
       "      <th>5</th>\n",
       "      <td>0.84</td>\n",
       "      <td>0.895302</td>\n",
       "      <td>0.055302</td>\n",
       "    </tr>\n",
       "    <tr>\n",
       "      <th>6</th>\n",
       "      <td>0.30</td>\n",
       "      <td>0.326343</td>\n",
       "      <td>0.026343</td>\n",
       "    </tr>\n",
       "    <tr>\n",
       "      <th>7</th>\n",
       "      <td>7.64</td>\n",
       "      <td>7.627070</td>\n",
       "      <td>0.012930</td>\n",
       "    </tr>\n",
       "    <tr>\n",
       "      <th>8</th>\n",
       "      <td>2.17</td>\n",
       "      <td>2.184579</td>\n",
       "      <td>0.014579</td>\n",
       "    </tr>\n",
       "    <tr>\n",
       "      <th>9</th>\n",
       "      <td>0.60</td>\n",
       "      <td>0.757221</td>\n",
       "      <td>0.157221</td>\n",
       "    </tr>\n",
       "  </tbody>\n",
       "</table>\n",
       "</div>"
      ],
      "text/plain": [
       "   pred_values  real_values      diff\n",
       "0         1.67     1.480830  0.189170\n",
       "1        24.31    26.146800  1.836800\n",
       "2         6.08    11.951632  5.871632\n",
       "3         0.14     0.138630  0.001370\n",
       "4         4.91     4.377988  0.532012\n",
       "5         0.84     0.895302  0.055302\n",
       "6         0.30     0.326343  0.026343\n",
       "7         7.64     7.627070  0.012930\n",
       "8         2.17     2.184579  0.014579\n",
       "9         0.60     0.757221  0.157221"
      ]
     },
     "execution_count": 28,
     "metadata": {},
     "output_type": "execute_result"
    }
   ],
   "source": [
    "# View actual and predicted value difference\n",
    "dtr_pred.head(10)"
   ]
  },
  {
   "cell_type": "markdown",
   "id": "0fdf6572-9ba4-47b2-a083-326f8bd767cd",
   "metadata": {},
   "source": [
    "## Random Forest Regression"
   ]
  },
  {
   "cell_type": "code",
   "execution_count": 29,
   "id": "e4834f5a",
   "metadata": {},
   "outputs": [
    {
     "data": {
      "text/plain": [
       "RandomForestRegressor()"
      ]
     },
     "execution_count": 29,
     "metadata": {},
     "output_type": "execute_result"
    }
   ],
   "source": [
    "# Import Random forest regression algorithm from sklearn\n",
    "from sklearn.ensemble import RandomForestRegressor\n",
    "# Train the model\n",
    "rf_model = RandomForestRegressor()\n",
    "rf_model.fit(X_train, y_train)"
   ]
  },
  {
   "cell_type": "code",
   "execution_count": 30,
   "id": "2199d046",
   "metadata": {},
   "outputs": [
    {
     "data": {
      "text/plain": [
       "array([ 1.80666805, 24.61330645, 10.741502  , ...,  1.24824325,\n",
       "        8.98075338,  0.08198072])"
      ]
     },
     "execution_count": 30,
     "metadata": {},
     "output_type": "execute_result"
    }
   ],
   "source": [
    "# Make predictions\n",
    "y_rf_pred = rf_model.predict(X_test)\n",
    "y_rf_pred"
   ]
  },
  {
   "cell_type": "code",
   "execution_count": 31,
   "id": "e61f84c9",
   "metadata": {},
   "outputs": [
    {
     "name": "stdout",
     "output_type": "stream",
     "text": [
      "RMSE: 0.6627\n",
      "MAE: 0.2668\n",
      "R2_score: 0.9847\n",
      "MSE: 0.4391\n"
     ]
    }
   ],
   "source": [
    "# Observe quality of the model\n",
    "print('RMSE: {:0.4f}'.format(np.sqrt(mean_squared_error(y_test,y_rf_pred))))\n",
    "print('MAE: {:0.4f}'.format(mean_absolute_error(y_test,y_rf_pred)))\n",
    "print('R2_score: {:0.4f}'.format(r2_score(y_test,y_rf_pred)))\n",
    "print('MSE: {:0.4f}'.format(mean_squared_error(y_test, y_rf_pred)))"
   ]
  },
  {
   "cell_type": "code",
   "execution_count": 32,
   "id": "28d89c32",
   "metadata": {},
   "outputs": [
    {
     "data": {
      "text/html": [
       "<div>\n",
       "<style scoped>\n",
       "    .dataframe tbody tr th:only-of-type {\n",
       "        vertical-align: middle;\n",
       "    }\n",
       "\n",
       "    .dataframe tbody tr th {\n",
       "        vertical-align: top;\n",
       "    }\n",
       "\n",
       "    .dataframe thead th {\n",
       "        text-align: right;\n",
       "    }\n",
       "</style>\n",
       "<table border=\"1\" class=\"dataframe\">\n",
       "  <thead>\n",
       "    <tr style=\"text-align: right;\">\n",
       "      <th></th>\n",
       "      <th>0</th>\n",
       "      <th>1</th>\n",
       "    </tr>\n",
       "  </thead>\n",
       "  <tbody>\n",
       "    <tr>\n",
       "      <th>0</th>\n",
       "      <td>1.806668</td>\n",
       "      <td>1.480830</td>\n",
       "    </tr>\n",
       "    <tr>\n",
       "      <th>1</th>\n",
       "      <td>24.613306</td>\n",
       "      <td>26.146800</td>\n",
       "    </tr>\n",
       "    <tr>\n",
       "      <th>2</th>\n",
       "      <td>10.741502</td>\n",
       "      <td>11.951632</td>\n",
       "    </tr>\n",
       "    <tr>\n",
       "      <th>3</th>\n",
       "      <td>0.146691</td>\n",
       "      <td>0.138630</td>\n",
       "    </tr>\n",
       "    <tr>\n",
       "      <th>4</th>\n",
       "      <td>4.878758</td>\n",
       "      <td>4.377988</td>\n",
       "    </tr>\n",
       "  </tbody>\n",
       "</table>\n",
       "</div>"
      ],
      "text/plain": [
       "           0          1\n",
       "0   1.806668   1.480830\n",
       "1  24.613306  26.146800\n",
       "2  10.741502  11.951632\n",
       "3   0.146691   0.138630\n",
       "4   4.878758   4.377988"
      ]
     },
     "execution_count": 32,
     "metadata": {},
     "output_type": "execute_result"
    }
   ],
   "source": [
    "# Generate frame from predicted and actual values\n",
    "frames = [y_rf_pred, y_test.values]\n",
    "result_pred = pd.DataFrame(data=frames)\n",
    "result_pred = result_pred.T\n",
    "result_pred.head()"
   ]
  },
  {
   "cell_type": "code",
   "execution_count": 33,
   "id": "2b686eb7",
   "metadata": {},
   "outputs": [
    {
     "name": "stdout",
     "output_type": "stream",
     "text": [
      "mean diff:  0.2668220383550727\n"
     ]
    }
   ],
   "source": [
    "# View error margin\n",
    "y_rf_pred = result_pred.rename(columns={0: 'pred_values', 1:'real_values'})\n",
    "y_rf_pred['pred_values'] = (y_rf_pred['pred_values'].map(lambda x: round(x,2)))\n",
    "y_rf_pred['diff'] = abs(y_rf_pred['real_values'] -y_rf_pred['pred_values'])\n",
    "print('mean diff: ', abs(y_rf_pred['diff']).mean())"
   ]
  },
  {
   "cell_type": "code",
   "execution_count": 34,
   "id": "f8e8a0a8",
   "metadata": {},
   "outputs": [
    {
     "data": {
      "text/html": [
       "<div>\n",
       "<style scoped>\n",
       "    .dataframe tbody tr th:only-of-type {\n",
       "        vertical-align: middle;\n",
       "    }\n",
       "\n",
       "    .dataframe tbody tr th {\n",
       "        vertical-align: top;\n",
       "    }\n",
       "\n",
       "    .dataframe thead th {\n",
       "        text-align: right;\n",
       "    }\n",
       "</style>\n",
       "<table border=\"1\" class=\"dataframe\">\n",
       "  <thead>\n",
       "    <tr style=\"text-align: right;\">\n",
       "      <th></th>\n",
       "      <th>pred_values</th>\n",
       "      <th>real_values</th>\n",
       "      <th>diff</th>\n",
       "    </tr>\n",
       "  </thead>\n",
       "  <tbody>\n",
       "    <tr>\n",
       "      <th>0</th>\n",
       "      <td>1.81</td>\n",
       "      <td>1.480830</td>\n",
       "      <td>0.329170</td>\n",
       "    </tr>\n",
       "    <tr>\n",
       "      <th>1</th>\n",
       "      <td>24.61</td>\n",
       "      <td>26.146800</td>\n",
       "      <td>1.536800</td>\n",
       "    </tr>\n",
       "    <tr>\n",
       "      <th>2</th>\n",
       "      <td>10.74</td>\n",
       "      <td>11.951632</td>\n",
       "      <td>1.211632</td>\n",
       "    </tr>\n",
       "    <tr>\n",
       "      <th>3</th>\n",
       "      <td>0.15</td>\n",
       "      <td>0.138630</td>\n",
       "      <td>0.011370</td>\n",
       "    </tr>\n",
       "    <tr>\n",
       "      <th>4</th>\n",
       "      <td>4.88</td>\n",
       "      <td>4.377988</td>\n",
       "      <td>0.502012</td>\n",
       "    </tr>\n",
       "    <tr>\n",
       "      <th>5</th>\n",
       "      <td>0.85</td>\n",
       "      <td>0.895302</td>\n",
       "      <td>0.045302</td>\n",
       "    </tr>\n",
       "    <tr>\n",
       "      <th>6</th>\n",
       "      <td>0.37</td>\n",
       "      <td>0.326343</td>\n",
       "      <td>0.043657</td>\n",
       "    </tr>\n",
       "    <tr>\n",
       "      <th>7</th>\n",
       "      <td>7.74</td>\n",
       "      <td>7.627070</td>\n",
       "      <td>0.112930</td>\n",
       "    </tr>\n",
       "    <tr>\n",
       "      <th>8</th>\n",
       "      <td>2.22</td>\n",
       "      <td>2.184579</td>\n",
       "      <td>0.035421</td>\n",
       "    </tr>\n",
       "    <tr>\n",
       "      <th>9</th>\n",
       "      <td>0.64</td>\n",
       "      <td>0.757221</td>\n",
       "      <td>0.117221</td>\n",
       "    </tr>\n",
       "  </tbody>\n",
       "</table>\n",
       "</div>"
      ],
      "text/plain": [
       "   pred_values  real_values      diff\n",
       "0         1.81     1.480830  0.329170\n",
       "1        24.61    26.146800  1.536800\n",
       "2        10.74    11.951632  1.211632\n",
       "3         0.15     0.138630  0.011370\n",
       "4         4.88     4.377988  0.502012\n",
       "5         0.85     0.895302  0.045302\n",
       "6         0.37     0.326343  0.043657\n",
       "7         7.74     7.627070  0.112930\n",
       "8         2.22     2.184579  0.035421\n",
       "9         0.64     0.757221  0.117221"
      ]
     },
     "execution_count": 34,
     "metadata": {},
     "output_type": "execute_result"
    }
   ],
   "source": [
    "# View difference table of actual and predicted value\n",
    "y_rf_pred.head(10)"
   ]
  },
  {
   "cell_type": "markdown",
   "id": "f5101f36-2da2-455f-adfc-9ad65b0e5190",
   "metadata": {},
   "source": [
    "## Simple Vector Regressor"
   ]
  },
  {
   "cell_type": "code",
   "execution_count": 36,
   "id": "697902f7",
   "metadata": {},
   "outputs": [
    {
     "name": "stderr",
     "output_type": "stream",
     "text": [
      "/Users/itorongo/Personal/USN/Second Semester/Data Science/Project/CS4020-ML-CO2-Emission-Prediction/venv/lib/python3.9/site-packages/sklearn/svm/_base.py:1206: ConvergenceWarning: Liblinear failed to converge, increase the number of iterations.\n",
      "  warnings.warn(\n"
     ]
    },
    {
     "data": {
      "text/plain": [
       "LinearSVR()"
      ]
     },
     "execution_count": 36,
     "metadata": {},
     "output_type": "execute_result"
    }
   ],
   "source": [
    "# Impor SVR algorithm from sklearn\n",
    "from sklearn.svm import LinearSVR\n",
    "# Train model\n",
    "model = LinearSVR()\n",
    "model.fit(X_train, y_train)"
   ]
  },
  {
   "cell_type": "code",
   "execution_count": 37,
   "id": "85f40556-3a39-4a7b-9efd-af9907cf3830",
   "metadata": {},
   "outputs": [
    {
     "data": {
      "text/plain": [
       "array([ 2.32788876, 26.24918209, 11.04709349, ...,  1.44616543,\n",
       "        8.04699133,  0.02934496])"
      ]
     },
     "execution_count": 37,
     "metadata": {},
     "output_type": "execute_result"
    }
   ],
   "source": [
    "# Make predictions\n",
    "y_svr_pred = model.predict(X_test)\n",
    "y_svr_pred"
   ]
  },
  {
   "cell_type": "code",
   "execution_count": 38,
   "id": "7bb8e7e8",
   "metadata": {},
   "outputs": [
    {
     "data": {
      "text/plain": [
       "2.284305805316509"
      ]
     },
     "execution_count": 38,
     "metadata": {},
     "output_type": "execute_result"
    }
   ],
   "source": [
    "# Mean Square Error\n",
    "np.sqrt(mean_squared_error(y_svr_pred,y_test))"
   ]
  },
  {
   "cell_type": "code",
   "execution_count": 39,
   "id": "cb058f47",
   "metadata": {},
   "outputs": [
    {
     "data": {
      "text/plain": [
       "0.8045652477786169"
      ]
     },
     "execution_count": 39,
     "metadata": {},
     "output_type": "execute_result"
    }
   ],
   "source": [
    "# R2 score\n",
    "r2_score(y_svr_pred,y_test)"
   ]
  },
  {
   "cell_type": "code",
   "execution_count": 40,
   "id": "4d0b8520",
   "metadata": {},
   "outputs": [
    {
     "data": {
      "text/html": [
       "<div>\n",
       "<style scoped>\n",
       "    .dataframe tbody tr th:only-of-type {\n",
       "        vertical-align: middle;\n",
       "    }\n",
       "\n",
       "    .dataframe tbody tr th {\n",
       "        vertical-align: top;\n",
       "    }\n",
       "\n",
       "    .dataframe thead th {\n",
       "        text-align: right;\n",
       "    }\n",
       "</style>\n",
       "<table border=\"1\" class=\"dataframe\">\n",
       "  <thead>\n",
       "    <tr style=\"text-align: right;\">\n",
       "      <th></th>\n",
       "      <th>0</th>\n",
       "      <th>1</th>\n",
       "    </tr>\n",
       "  </thead>\n",
       "  <tbody>\n",
       "    <tr>\n",
       "      <th>0</th>\n",
       "      <td>2.327889</td>\n",
       "      <td>1.480830</td>\n",
       "    </tr>\n",
       "    <tr>\n",
       "      <th>1</th>\n",
       "      <td>26.249182</td>\n",
       "      <td>26.146800</td>\n",
       "    </tr>\n",
       "    <tr>\n",
       "      <th>2</th>\n",
       "      <td>11.047093</td>\n",
       "      <td>11.951632</td>\n",
       "    </tr>\n",
       "    <tr>\n",
       "      <th>3</th>\n",
       "      <td>-0.014523</td>\n",
       "      <td>0.138630</td>\n",
       "    </tr>\n",
       "    <tr>\n",
       "      <th>4</th>\n",
       "      <td>4.110121</td>\n",
       "      <td>4.377988</td>\n",
       "    </tr>\n",
       "  </tbody>\n",
       "</table>\n",
       "</div>"
      ],
      "text/plain": [
       "           0          1\n",
       "0   2.327889   1.480830\n",
       "1  26.249182  26.146800\n",
       "2  11.047093  11.951632\n",
       "3  -0.014523   0.138630\n",
       "4   4.110121   4.377988"
      ]
     },
     "execution_count": 40,
     "metadata": {},
     "output_type": "execute_result"
    }
   ],
   "source": [
    "# Gerenate frame from predicted and actual values\n",
    "frames = [y_svr_pred, y_test.values]\n",
    "result_pred = pd.DataFrame(data=frames)\n",
    "result_pred = result_pred.T\n",
    "result_pred.head()"
   ]
  },
  {
   "cell_type": "code",
   "execution_count": 41,
   "id": "8e537f1b",
   "metadata": {},
   "outputs": [
    {
     "name": "stdout",
     "output_type": "stream",
     "text": [
      "mean diff:  0.9357538813693878\n"
     ]
    }
   ],
   "source": [
    "# View error margin\n",
    "y_svr_pred = result_pred.rename(columns={0: 'pred_values', 1:'real_values'})\n",
    "y_svr_pred['pred_values'] = (y_svr_pred['pred_values'].map(lambda x: round(x,2)))\n",
    "y_svr_pred['diff'] = abs(y_svr_pred['real_values'] -y_svr_pred['pred_values'])\n",
    "print('mean diff: ', abs(y_svr_pred['diff']).mean())"
   ]
  },
  {
   "cell_type": "code",
   "execution_count": 42,
   "id": "7782b587",
   "metadata": {},
   "outputs": [
    {
     "data": {
      "text/html": [
       "<div>\n",
       "<style scoped>\n",
       "    .dataframe tbody tr th:only-of-type {\n",
       "        vertical-align: middle;\n",
       "    }\n",
       "\n",
       "    .dataframe tbody tr th {\n",
       "        vertical-align: top;\n",
       "    }\n",
       "\n",
       "    .dataframe thead th {\n",
       "        text-align: right;\n",
       "    }\n",
       "</style>\n",
       "<table border=\"1\" class=\"dataframe\">\n",
       "  <thead>\n",
       "    <tr style=\"text-align: right;\">\n",
       "      <th></th>\n",
       "      <th>pred_values</th>\n",
       "      <th>real_values</th>\n",
       "      <th>diff</th>\n",
       "    </tr>\n",
       "  </thead>\n",
       "  <tbody>\n",
       "    <tr>\n",
       "      <th>0</th>\n",
       "      <td>2.33</td>\n",
       "      <td>1.480830</td>\n",
       "      <td>0.849170</td>\n",
       "    </tr>\n",
       "    <tr>\n",
       "      <th>1</th>\n",
       "      <td>26.25</td>\n",
       "      <td>26.146800</td>\n",
       "      <td>0.103200</td>\n",
       "    </tr>\n",
       "    <tr>\n",
       "      <th>2</th>\n",
       "      <td>11.05</td>\n",
       "      <td>11.951632</td>\n",
       "      <td>0.901632</td>\n",
       "    </tr>\n",
       "    <tr>\n",
       "      <th>3</th>\n",
       "      <td>-0.01</td>\n",
       "      <td>0.138630</td>\n",
       "      <td>0.148630</td>\n",
       "    </tr>\n",
       "    <tr>\n",
       "      <th>4</th>\n",
       "      <td>4.11</td>\n",
       "      <td>4.377988</td>\n",
       "      <td>0.267988</td>\n",
       "    </tr>\n",
       "    <tr>\n",
       "      <th>5</th>\n",
       "      <td>1.21</td>\n",
       "      <td>0.895302</td>\n",
       "      <td>0.314698</td>\n",
       "    </tr>\n",
       "    <tr>\n",
       "      <th>6</th>\n",
       "      <td>0.37</td>\n",
       "      <td>0.326343</td>\n",
       "      <td>0.043657</td>\n",
       "    </tr>\n",
       "    <tr>\n",
       "      <th>7</th>\n",
       "      <td>7.56</td>\n",
       "      <td>7.627070</td>\n",
       "      <td>0.067070</td>\n",
       "    </tr>\n",
       "    <tr>\n",
       "      <th>8</th>\n",
       "      <td>2.57</td>\n",
       "      <td>2.184579</td>\n",
       "      <td>0.385421</td>\n",
       "    </tr>\n",
       "    <tr>\n",
       "      <th>9</th>\n",
       "      <td>0.52</td>\n",
       "      <td>0.757221</td>\n",
       "      <td>0.237221</td>\n",
       "    </tr>\n",
       "  </tbody>\n",
       "</table>\n",
       "</div>"
      ],
      "text/plain": [
       "   pred_values  real_values      diff\n",
       "0         2.33     1.480830  0.849170\n",
       "1        26.25    26.146800  0.103200\n",
       "2        11.05    11.951632  0.901632\n",
       "3        -0.01     0.138630  0.148630\n",
       "4         4.11     4.377988  0.267988\n",
       "5         1.21     0.895302  0.314698\n",
       "6         0.37     0.326343  0.043657\n",
       "7         7.56     7.627070  0.067070\n",
       "8         2.57     2.184579  0.385421\n",
       "9         0.52     0.757221  0.237221"
      ]
     },
     "execution_count": 42,
     "metadata": {},
     "output_type": "execute_result"
    }
   ],
   "source": [
    "# View actual and predicted values difference table\n",
    "y_svr_pred.head(10)"
   ]
  },
  {
   "cell_type": "markdown",
   "id": "06b00703-1614-484e-b8e4-cab064bf8f5a",
   "metadata": {},
   "source": [
    "# Algorithms Mectrics Comparison\n",
    "\n",
    "Next, few metrics such as Root Mean Squared Error, R2 Score, and Mean Absolute Error has been considered to generate a comparison table for the models built and tested. "
   ]
  },
  {
   "cell_type": "code",
   "execution_count": 43,
   "id": "42a9af79",
   "metadata": {},
   "outputs": [
    {
     "name": "stderr",
     "output_type": "stream",
     "text": [
      "/Users/itorongo/Personal/USN/Second Semester/Data Science/Project/CS4020-ML-CO2-Emission-Prediction/venv/lib/python3.9/site-packages/sklearn/svm/_base.py:1206: ConvergenceWarning: Liblinear failed to converge, increase the number of iterations.\n",
      "  warnings.warn(\n"
     ]
    }
   ],
   "source": [
    "models =['LinReg','DT', 'RF',\"SVR\"]\n",
    "\n",
    "frame = pd.DataFrame(columns={'models':[],'rmse_train':[], 'mae_train':[],'r2_train':[] ,'rmse_test':[], 'mae_test':[],'r2_test':[]})\n",
    "\n",
    "for i in range(len(models)):\n",
    "    if models[i] == 'LinReg': # Linear Regression\n",
    "        # Define model\n",
    "        model = LinearRegression()\n",
    "        model.fit(X_train,y_train)\n",
    "        # Make Predictions\n",
    "        pred_train = model.predict(X_train)\n",
    "        rmse_train = np.sqrt(mean_squared_error(y_train,pred_train))\n",
    "        mae_train = mean_absolute_error(y_train,pred_train)\n",
    "        r2_train = r2_score(y_train,pred_train)\n",
    "        \n",
    "        pred_test = model.predict(X_test)\n",
    "        rmse_test = np.sqrt(mean_squared_error(y_test,pred_test))\n",
    "        mae_test = mean_absolute_error(y_test,pred_test)\n",
    "        r2_test = r2_score(y_test,pred_test)\n",
    "        # Add to dataframe\n",
    "        frame.loc[frame.shape[0]] = ['Linear Regression', rmse_train, mae_train,r2_train,rmse_test,mae_test,r2_test]\n",
    "        \n",
    "    elif models[i] =='DT': # Decision Tree\n",
    "         # Define model\n",
    "        model = DecisionTreeRegressor()\n",
    "        model.fit(X_train,y_train)\n",
    "        # Make Predictions\n",
    "        pred_train = model.predict(X_train)\n",
    "        rmse_train = np.sqrt(mean_squared_error(y_train,pred_train))\n",
    "        mae_train = mean_absolute_error(y_train,pred_train)\n",
    "        r2_train = r2_score(y_train,pred_train)\n",
    "        \n",
    "        pred_test = model.predict(X_test)\n",
    "        rmse_test = np.sqrt(mean_squared_error(y_test,pred_test))\n",
    "        mae_test = mean_absolute_error(y_test,pred_test)\n",
    "        r2_test = r2_score(y_test,pred_test)\n",
    "        # Add to dataframe\n",
    "        frame.loc[frame.shape[0]] = ['Decision Tree Regression',rmse_train, mae_train,r2_train,rmse_test,mae_test,r2_test]\n",
    "        \n",
    "    elif models[i] =='RF': # Random Forest\n",
    "         # Define model\n",
    "        model = RandomForestRegressor()\n",
    "        model.fit(X_train,y_train)\n",
    "        # Make Predictions\n",
    "        pred_train = model.predict(X_train)\n",
    "        rmse_train = np.sqrt(mean_squared_error(y_train,pred_train))\n",
    "        mae_train = mean_absolute_error(y_train,pred_train)\n",
    "        r2_train = r2_score(y_train,pred_train)\n",
    "       \n",
    "        pred_test = model.predict(X_test)\n",
    "        rmse_test = np.sqrt(mean_squared_error(y_test,pred_test))\n",
    "        mae_test = mean_absolute_error(y_test,pred_test)\n",
    "        r2_test = r2_score(y_test,pred_test)\n",
    "        # Add to dataframe\n",
    "        frame.loc[frame.shape[0]] = ['Random Forest Regression',rmse_train, mae_train,r2_train,rmse_test,mae_test,r2_test]\n",
    "        \n",
    "    else :\n",
    "        models[i] =='SVM' # Support Vector Machine\n",
    "         # Define model\n",
    "        model = LinearSVR()\n",
    "        model.fit(X_train,y_train)\n",
    "        # Make Predictions\n",
    "        pred_train = model.predict(X_train)\n",
    "        rmse_train = np.sqrt(mean_squared_error(y_train,pred_train))\n",
    "        mae_train = mean_absolute_error(y_train,pred_train)\n",
    "        r2_train = r2_score(y_train,pred_train)\n",
    "        \n",
    "        pred_test = model.predict(X_test)\n",
    "        rmse_test = np.sqrt(mean_squared_error(y_test,pred_test))\n",
    "        mae_test = mean_absolute_error(y_test,pred_test)\n",
    "        r2_test = r2_score(y_test,pred_test)\n",
    "        # Add to dataframe\n",
    "        frame.loc[frame.shape[0]] = ['Simple Vector Regression',rmse_train, mae_train,r2_train,rmse_test,mae_test,r2_test]"
   ]
  },
  {
   "cell_type": "code",
   "execution_count": 44,
   "id": "7f0351d9",
   "metadata": {},
   "outputs": [
    {
     "data": {
      "text/html": [
       "<div>\n",
       "<style scoped>\n",
       "    .dataframe tbody tr th:only-of-type {\n",
       "        vertical-align: middle;\n",
       "    }\n",
       "\n",
       "    .dataframe tbody tr th {\n",
       "        vertical-align: top;\n",
       "    }\n",
       "\n",
       "    .dataframe thead th {\n",
       "        text-align: right;\n",
       "    }\n",
       "</style>\n",
       "<table border=\"1\" class=\"dataframe\">\n",
       "  <thead>\n",
       "    <tr style=\"text-align: right;\">\n",
       "      <th></th>\n",
       "      <th>models</th>\n",
       "      <th>rmse_train</th>\n",
       "      <th>mae_train</th>\n",
       "      <th>r2_train</th>\n",
       "      <th>rmse_test</th>\n",
       "      <th>mae_test</th>\n",
       "      <th>r2_test</th>\n",
       "    </tr>\n",
       "  </thead>\n",
       "  <tbody>\n",
       "    <tr>\n",
       "      <th>0</th>\n",
       "      <td>Linear Regression</td>\n",
       "      <td>2.248606e+00</td>\n",
       "      <td>1.274278e+00</td>\n",
       "      <td>0.825057</td>\n",
       "      <td>2.175469</td>\n",
       "      <td>1.249916</td>\n",
       "      <td>0.835265</td>\n",
       "    </tr>\n",
       "    <tr>\n",
       "      <th>1</th>\n",
       "      <td>Decision Tree Regression</td>\n",
       "      <td>7.307584e-17</td>\n",
       "      <td>6.202951e-18</td>\n",
       "      <td>1.000000</td>\n",
       "      <td>1.081285</td>\n",
       "      <td>0.375171</td>\n",
       "      <td>0.959303</td>\n",
       "    </tr>\n",
       "    <tr>\n",
       "      <th>2</th>\n",
       "      <td>Random Forest Regression</td>\n",
       "      <td>2.532246e-01</td>\n",
       "      <td>9.590296e-02</td>\n",
       "      <td>0.997781</td>\n",
       "      <td>0.670830</td>\n",
       "      <td>0.268453</td>\n",
       "      <td>0.984336</td>\n",
       "    </tr>\n",
       "    <tr>\n",
       "      <th>3</th>\n",
       "      <td>Simple Vector Regression</td>\n",
       "      <td>2.484099e+00</td>\n",
       "      <td>9.903858e-01</td>\n",
       "      <td>0.786496</td>\n",
       "      <td>2.283417</td>\n",
       "      <td>0.935809</td>\n",
       "      <td>0.818510</td>\n",
       "    </tr>\n",
       "  </tbody>\n",
       "</table>\n",
       "</div>"
      ],
      "text/plain": [
       "                     models    rmse_train     mae_train  r2_train  rmse_test  \\\n",
       "0         Linear Regression  2.248606e+00  1.274278e+00  0.825057   2.175469   \n",
       "1  Decision Tree Regression  7.307584e-17  6.202951e-18  1.000000   1.081285   \n",
       "2  Random Forest Regression  2.532246e-01  9.590296e-02  0.997781   0.670830   \n",
       "3  Simple Vector Regression  2.484099e+00  9.903858e-01  0.786496   2.283417   \n",
       "\n",
       "   mae_test   r2_test  \n",
       "0  1.249916  0.835265  \n",
       "1  0.375171  0.959303  \n",
       "2  0.268453  0.984336  \n",
       "3  0.935809  0.818510  "
      ]
     },
     "execution_count": 44,
     "metadata": {},
     "output_type": "execute_result"
    }
   ],
   "source": [
    "# Present dataframe\n",
    "frame"
   ]
  },
  {
   "cell_type": "markdown",
   "id": "bba6165d-1b28-40b8-9507-b5c63105c22e",
   "metadata": {},
   "source": [
    "# Final Summary"
   ]
  },
  {
   "cell_type": "markdown",
   "id": "c89e3993-8825-4b66-8c0c-9dfb16e3b19c",
   "metadata": {},
   "source": [
    "From the comparison table it is noticeable that the Decision tree regression and the Random forest regression algorithm performing pretty closely with R2 score of 0.959 and 0.983 respectively. Since Random forest algorithm is performing better, that algorithm is selected and chosen for further tuning down the road. In the end, the aim is to build a model that can predict the CO2 per capita with highest precision and accuracy. "
   ]
  },
  {
   "cell_type": "code",
   "execution_count": null,
   "id": "f1f136c6-c137-4f29-b31a-81135327fe82",
   "metadata": {},
   "outputs": [],
   "source": []
  }
 ],
 "metadata": {
  "kernelspec": {
   "display_name": "Python 3 (ipykernel)",
   "language": "python",
   "name": "python3"
  },
  "language_info": {
   "codemirror_mode": {
    "name": "ipython",
    "version": 3
   },
   "file_extension": ".py",
   "mimetype": "text/x-python",
   "name": "python",
   "nbconvert_exporter": "python",
   "pygments_lexer": "ipython3",
   "version": "3.9.6"
  }
 },
 "nbformat": 4,
 "nbformat_minor": 5
}
