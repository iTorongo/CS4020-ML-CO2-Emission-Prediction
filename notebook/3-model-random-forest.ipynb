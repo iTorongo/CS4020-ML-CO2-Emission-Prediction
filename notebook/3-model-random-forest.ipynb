{
 "cells": [
  {
   "cell_type": "markdown",
   "id": "6b36e7a6-86b9-4c32-a080-389877642268",
   "metadata": {},
   "source": [
    "# Carbon Emission Prediction Using Machine Learing"
   ]
  },
  {
   "cell_type": "markdown",
   "id": "5bdab833-0315-47e1-8a18-a4522567308d",
   "metadata": {},
   "source": [
    "Carbon emission is said to be one of the most critical reasons of global warming. This project aims to provide a country-wise overview of the future trends of carbon emission as well as a global trend prediction for next ten years. The approach is to analyse the historical data for these countries various economic factors, learn them, and make future predictions."
   ]
  },
  {
   "cell_type": "markdown",
   "id": "76538c13-cdec-41ae-a7c4-d7fc1f0dc4cc",
   "metadata": {},
   "source": [
    "Dataset:\n",
    "https://www.kaggle.com/manchunhui/world-co2-emissions-analysis/"
   ]
  },
  {
   "cell_type": "markdown",
   "id": "426d9ddf-decd-4cbf-a993-5c9149d29078",
   "metadata": {},
   "source": [
    "# Summary\n",
    "\n",
    "After cleaning up the data the next challenge is to select the best model to train the dataset and make predictions. This notebook contains the steps of selecting the most important features from the dataset and improvising the random forest regression model. "
   ]
  },
  {
   "cell_type": "markdown",
   "id": "6e83f3df-cf9a-45d1-8113-15a05ec71866",
   "metadata": {},
   "source": [
    "## Import libraries and read dataset"
   ]
  },
  {
   "cell_type": "code",
   "execution_count": 23,
   "id": "096bba09-ffc6-42f2-86a0-32415e4d4b9f",
   "metadata": {},
   "outputs": [],
   "source": [
    "# Import necessary libraries\n",
    "import pandas as pd\n",
    "import numpy as np\n",
    "import numpy.random as nr\n",
    "import sys\n",
    "import seaborn as sns\n",
    "import matplotlib.pyplot as plt\n",
    "\n",
    "import sklearn.model_selection as ms\n",
    "from sklearn.model_selection import cross_val_score, train_test_split\n",
    "from sklearn.ensemble import RandomForestRegressor\n",
    "from sklearn import feature_selection as fs\n",
    "\n",
    "import warnings\n",
    "warnings.filterwarnings(action='ignore')"
   ]
  },
  {
   "cell_type": "code",
   "execution_count": 24,
   "id": "c110f42b",
   "metadata": {},
   "outputs": [],
   "source": [
    "# Load the cleaned and preprocessed dataset\n",
    "data = pd.read_csv('../dataset/processed/data_preprocessed.csv')"
   ]
  },
  {
   "cell_type": "code",
   "execution_count": 25,
   "id": "1ece69c1-ab0c-4054-97a6-1c0b08f65edc",
   "metadata": {},
   "outputs": [
    {
     "data": {
      "text/plain": [
       "(7040, 25)"
      ]
     },
     "execution_count": 25,
     "metadata": {},
     "output_type": "execute_result"
    }
   ],
   "source": [
    "# View the dataset shape\n",
    "data.shape"
   ]
  },
  {
   "cell_type": "code",
   "execution_count": 26,
   "id": "0fdfeeb1-8c17-43b9-9b2a-4c192b0016ca",
   "metadata": {},
   "outputs": [
    {
     "data": {
      "text/plain": [
       "CountryCode                 float64\n",
       "Year                        float64\n",
       "AIR_TRANS_FREIGHT           float64\n",
       "ALT_NUCL_EN_PERC            float64\n",
       "CEREAL_YIELD                float64\n",
       "CO2_EM_PC                   float64\n",
       "CO2_EM_TOTAL                float64\n",
       "COMB_REN_WASTE_PERC         float64\n",
       "ELEC_PROD_COAL_PERC         float64\n",
       "ELEC_PROD_HYDRO_PERC        float64\n",
       "ELEC_PROD_NAT_GAS_PERC      float64\n",
       "ELEC_PROD_NUCL_PERC         float64\n",
       "ELEC_PROD_OIL_PERC          float64\n",
       "ELEC_PROD_RENW_SRC_PERC     float64\n",
       "EN_USE_PC                   float64\n",
       "FOSSIL_FUEL_EN_CONS_PERC    float64\n",
       "FUEL_IMPORT_PERC            float64\n",
       "GDP_GROWTH_PERC             float64\n",
       "GDP_PC                      float64\n",
       "METHANE_EM                  float64\n",
       "NO2_EM                      float64\n",
       "POP_GROWTH_PERC             float64\n",
       "POP_URBAN_AGG               float64\n",
       "URBAN_POP_GROWTH            float64\n",
       "URBAN_POP_TOTAL             float64\n",
       "dtype: object"
      ]
     },
     "execution_count": 26,
     "metadata": {},
     "output_type": "execute_result"
    }
   ],
   "source": [
    "# Check the data types\n",
    "data.dtypes"
   ]
  },
  {
   "cell_type": "code",
   "execution_count": 27,
   "id": "82da54c2-b215-4cb5-b5b5-150ec2d34366",
   "metadata": {},
   "outputs": [
    {
     "data": {
      "text/html": [
       "<div>\n",
       "<style scoped>\n",
       "    .dataframe tbody tr th:only-of-type {\n",
       "        vertical-align: middle;\n",
       "    }\n",
       "\n",
       "    .dataframe tbody tr th {\n",
       "        vertical-align: top;\n",
       "    }\n",
       "\n",
       "    .dataframe thead th {\n",
       "        text-align: right;\n",
       "    }\n",
       "</style>\n",
       "<table border=\"1\" class=\"dataframe\">\n",
       "  <thead>\n",
       "    <tr style=\"text-align: right;\">\n",
       "      <th></th>\n",
       "      <th>CountryCode</th>\n",
       "      <th>Year</th>\n",
       "      <th>AIR_TRANS_FREIGHT</th>\n",
       "      <th>ALT_NUCL_EN_PERC</th>\n",
       "      <th>CEREAL_YIELD</th>\n",
       "      <th>CO2_EM_PC</th>\n",
       "      <th>CO2_EM_TOTAL</th>\n",
       "      <th>COMB_REN_WASTE_PERC</th>\n",
       "      <th>ELEC_PROD_COAL_PERC</th>\n",
       "      <th>ELEC_PROD_HYDRO_PERC</th>\n",
       "      <th>...</th>\n",
       "      <th>FOSSIL_FUEL_EN_CONS_PERC</th>\n",
       "      <th>FUEL_IMPORT_PERC</th>\n",
       "      <th>GDP_GROWTH_PERC</th>\n",
       "      <th>GDP_PC</th>\n",
       "      <th>METHANE_EM</th>\n",
       "      <th>NO2_EM</th>\n",
       "      <th>POP_GROWTH_PERC</th>\n",
       "      <th>POP_URBAN_AGG</th>\n",
       "      <th>URBAN_POP_GROWTH</th>\n",
       "      <th>URBAN_POP_TOTAL</th>\n",
       "    </tr>\n",
       "  </thead>\n",
       "  <tbody>\n",
       "    <tr>\n",
       "      <th>count</th>\n",
       "      <td>7040.0000</td>\n",
       "      <td>7040.000000</td>\n",
       "      <td>7040.000000</td>\n",
       "      <td>7040.000000</td>\n",
       "      <td>7040.000000</td>\n",
       "      <td>7040.000000</td>\n",
       "      <td>7.040000e+03</td>\n",
       "      <td>7040.000000</td>\n",
       "      <td>7040.000000</td>\n",
       "      <td>7040.000000</td>\n",
       "      <td>...</td>\n",
       "      <td>7040.000000</td>\n",
       "      <td>7040.000000</td>\n",
       "      <td>7040.000000</td>\n",
       "      <td>7040.000000</td>\n",
       "      <td>7.040000e+03</td>\n",
       "      <td>7.040000e+03</td>\n",
       "      <td>7040.000000</td>\n",
       "      <td>7040.000000</td>\n",
       "      <td>7040.000000</td>\n",
       "      <td>7040.000000</td>\n",
       "    </tr>\n",
       "    <tr>\n",
       "      <th>mean</th>\n",
       "      <td>79.5000</td>\n",
       "      <td>1992.500000</td>\n",
       "      <td>3702.112907</td>\n",
       "      <td>5.451944</td>\n",
       "      <td>2606.102441</td>\n",
       "      <td>4.663404</td>\n",
       "      <td>1.132924e+06</td>\n",
       "      <td>23.771392</td>\n",
       "      <td>18.385797</td>\n",
       "      <td>30.896926</td>\n",
       "      <td>...</td>\n",
       "      <td>66.836395</td>\n",
       "      <td>13.109117</td>\n",
       "      <td>3.797609</td>\n",
       "      <td>6959.521142</td>\n",
       "      <td>3.948414e+05</td>\n",
       "      <td>1.666575e+05</td>\n",
       "      <td>1.717097</td>\n",
       "      <td>21.740549</td>\n",
       "      <td>2.765706</td>\n",
       "      <td>53.889926</td>\n",
       "    </tr>\n",
       "    <tr>\n",
       "      <th>std</th>\n",
       "      <td>46.1904</td>\n",
       "      <td>12.699327</td>\n",
       "      <td>14022.342539</td>\n",
       "      <td>8.282755</td>\n",
       "      <td>1628.382506</td>\n",
       "      <td>5.370064</td>\n",
       "      <td>2.881979e+06</td>\n",
       "      <td>26.954099</td>\n",
       "      <td>25.080587</td>\n",
       "      <td>29.640640</td>\n",
       "      <td>...</td>\n",
       "      <td>27.805137</td>\n",
       "      <td>8.062508</td>\n",
       "      <td>4.868358</td>\n",
       "      <td>12066.504198</td>\n",
       "      <td>9.650330e+05</td>\n",
       "      <td>3.880231e+05</td>\n",
       "      <td>1.191852</td>\n",
       "      <td>14.306629</td>\n",
       "      <td>3.044698</td>\n",
       "      <td>22.619147</td>\n",
       "    </tr>\n",
       "    <tr>\n",
       "      <th>min</th>\n",
       "      <td>0.0000</td>\n",
       "      <td>1971.000000</td>\n",
       "      <td>0.000000</td>\n",
       "      <td>0.000000</td>\n",
       "      <td>107.200000</td>\n",
       "      <td>0.004333</td>\n",
       "      <td>2.200200e+01</td>\n",
       "      <td>0.000000</td>\n",
       "      <td>0.000000</td>\n",
       "      <td>0.000000</td>\n",
       "      <td>...</td>\n",
       "      <td>1.639733</td>\n",
       "      <td>0.012810</td>\n",
       "      <td>-64.047107</td>\n",
       "      <td>69.233327</td>\n",
       "      <td>3.414480e+00</td>\n",
       "      <td>2.087546e+00</td>\n",
       "      <td>-9.080638</td>\n",
       "      <td>1.221748</td>\n",
       "      <td>-187.141962</td>\n",
       "      <td>4.005000</td>\n",
       "    </tr>\n",
       "    <tr>\n",
       "      <th>25%</th>\n",
       "      <td>39.7500</td>\n",
       "      <td>1981.750000</td>\n",
       "      <td>21.421750</td>\n",
       "      <td>0.824997</td>\n",
       "      <td>1396.400000</td>\n",
       "      <td>0.829630</td>\n",
       "      <td>8.242499e+03</td>\n",
       "      <td>2.268305</td>\n",
       "      <td>0.000000</td>\n",
       "      <td>7.296276</td>\n",
       "      <td>...</td>\n",
       "      <td>44.856445</td>\n",
       "      <td>8.807738</td>\n",
       "      <td>1.996691</td>\n",
       "      <td>777.333009</td>\n",
       "      <td>8.171863e+03</td>\n",
       "      <td>3.631433e+03</td>\n",
       "      <td>0.784705</td>\n",
       "      <td>13.031132</td>\n",
       "      <td>1.266748</td>\n",
       "      <td>34.751449</td>\n",
       "    </tr>\n",
       "    <tr>\n",
       "      <th>50%</th>\n",
       "      <td>79.5000</td>\n",
       "      <td>1992.500000</td>\n",
       "      <td>179.560502</td>\n",
       "      <td>2.401774</td>\n",
       "      <td>2205.100000</td>\n",
       "      <td>2.693024</td>\n",
       "      <td>5.890302e+04</td>\n",
       "      <td>11.186967</td>\n",
       "      <td>2.978696</td>\n",
       "      <td>19.560477</td>\n",
       "      <td>...</td>\n",
       "      <td>75.558918</td>\n",
       "      <td>11.942561</td>\n",
       "      <td>3.897323</td>\n",
       "      <td>2133.368871</td>\n",
       "      <td>2.905675e+04</td>\n",
       "      <td>1.268365e+04</td>\n",
       "      <td>1.710362</td>\n",
       "      <td>18.545102</td>\n",
       "      <td>2.687682</td>\n",
       "      <td>53.989000</td>\n",
       "    </tr>\n",
       "    <tr>\n",
       "      <th>75%</th>\n",
       "      <td>119.2500</td>\n",
       "      <td>2003.250000</td>\n",
       "      <td>1029.599976</td>\n",
       "      <td>6.600922</td>\n",
       "      <td>3458.609692</td>\n",
       "      <td>7.070507</td>\n",
       "      <td>4.361039e+05</td>\n",
       "      <td>42.956489</td>\n",
       "      <td>33.516265</td>\n",
       "      <td>51.963377</td>\n",
       "      <td>...</td>\n",
       "      <td>89.749103</td>\n",
       "      <td>15.780125</td>\n",
       "      <td>5.805296</td>\n",
       "      <td>6801.199958</td>\n",
       "      <td>2.964825e+05</td>\n",
       "      <td>1.032129e+05</td>\n",
       "      <td>2.580322</td>\n",
       "      <td>25.247031</td>\n",
       "      <td>3.971619</td>\n",
       "      <td>72.968332</td>\n",
       "    </tr>\n",
       "    <tr>\n",
       "      <th>max</th>\n",
       "      <td>159.0000</td>\n",
       "      <td>2014.000000</td>\n",
       "      <td>184831.109461</td>\n",
       "      <td>71.542360</td>\n",
       "      <td>21865.500000</td>\n",
       "      <td>40.589523</td>\n",
       "      <td>2.155943e+07</td>\n",
       "      <td>98.186277</td>\n",
       "      <td>100.000000</td>\n",
       "      <td>100.000000</td>\n",
       "      <td>...</td>\n",
       "      <td>100.000000</td>\n",
       "      <td>156.177186</td>\n",
       "      <td>123.139555</td>\n",
       "      <td>118823.648369</td>\n",
       "      <td>8.014067e+06</td>\n",
       "      <td>3.260053e+06</td>\n",
       "      <td>7.786010</td>\n",
       "      <td>100.000000</td>\n",
       "      <td>48.935720</td>\n",
       "      <td>100.000000</td>\n",
       "    </tr>\n",
       "  </tbody>\n",
       "</table>\n",
       "<p>8 rows × 25 columns</p>\n",
       "</div>"
      ],
      "text/plain": [
       "       CountryCode         Year  AIR_TRANS_FREIGHT  ALT_NUCL_EN_PERC  \\\n",
       "count    7040.0000  7040.000000        7040.000000       7040.000000   \n",
       "mean       79.5000  1992.500000        3702.112907          5.451944   \n",
       "std        46.1904    12.699327       14022.342539          8.282755   \n",
       "min         0.0000  1971.000000           0.000000          0.000000   \n",
       "25%        39.7500  1981.750000          21.421750          0.824997   \n",
       "50%        79.5000  1992.500000         179.560502          2.401774   \n",
       "75%       119.2500  2003.250000        1029.599976          6.600922   \n",
       "max       159.0000  2014.000000      184831.109461         71.542360   \n",
       "\n",
       "       CEREAL_YIELD    CO2_EM_PC  CO2_EM_TOTAL  COMB_REN_WASTE_PERC  \\\n",
       "count   7040.000000  7040.000000  7.040000e+03          7040.000000   \n",
       "mean    2606.102441     4.663404  1.132924e+06            23.771392   \n",
       "std     1628.382506     5.370064  2.881979e+06            26.954099   \n",
       "min      107.200000     0.004333  2.200200e+01             0.000000   \n",
       "25%     1396.400000     0.829630  8.242499e+03             2.268305   \n",
       "50%     2205.100000     2.693024  5.890302e+04            11.186967   \n",
       "75%     3458.609692     7.070507  4.361039e+05            42.956489   \n",
       "max    21865.500000    40.589523  2.155943e+07            98.186277   \n",
       "\n",
       "       ELEC_PROD_COAL_PERC  ELEC_PROD_HYDRO_PERC  ...  \\\n",
       "count          7040.000000           7040.000000  ...   \n",
       "mean             18.385797             30.896926  ...   \n",
       "std              25.080587             29.640640  ...   \n",
       "min               0.000000              0.000000  ...   \n",
       "25%               0.000000              7.296276  ...   \n",
       "50%               2.978696             19.560477  ...   \n",
       "75%              33.516265             51.963377  ...   \n",
       "max             100.000000            100.000000  ...   \n",
       "\n",
       "       FOSSIL_FUEL_EN_CONS_PERC  FUEL_IMPORT_PERC  GDP_GROWTH_PERC  \\\n",
       "count               7040.000000       7040.000000      7040.000000   \n",
       "mean                  66.836395         13.109117         3.797609   \n",
       "std                   27.805137          8.062508         4.868358   \n",
       "min                    1.639733          0.012810       -64.047107   \n",
       "25%                   44.856445          8.807738         1.996691   \n",
       "50%                   75.558918         11.942561         3.897323   \n",
       "75%                   89.749103         15.780125         5.805296   \n",
       "max                  100.000000        156.177186       123.139555   \n",
       "\n",
       "              GDP_PC    METHANE_EM        NO2_EM  POP_GROWTH_PERC  \\\n",
       "count    7040.000000  7.040000e+03  7.040000e+03      7040.000000   \n",
       "mean     6959.521142  3.948414e+05  1.666575e+05         1.717097   \n",
       "std     12066.504198  9.650330e+05  3.880231e+05         1.191852   \n",
       "min        69.233327  3.414480e+00  2.087546e+00        -9.080638   \n",
       "25%       777.333009  8.171863e+03  3.631433e+03         0.784705   \n",
       "50%      2133.368871  2.905675e+04  1.268365e+04         1.710362   \n",
       "75%      6801.199958  2.964825e+05  1.032129e+05         2.580322   \n",
       "max    118823.648369  8.014067e+06  3.260053e+06         7.786010   \n",
       "\n",
       "       POP_URBAN_AGG  URBAN_POP_GROWTH  URBAN_POP_TOTAL  \n",
       "count    7040.000000       7040.000000      7040.000000  \n",
       "mean       21.740549          2.765706        53.889926  \n",
       "std        14.306629          3.044698        22.619147  \n",
       "min         1.221748       -187.141962         4.005000  \n",
       "25%        13.031132          1.266748        34.751449  \n",
       "50%        18.545102          2.687682        53.989000  \n",
       "75%        25.247031          3.971619        72.968332  \n",
       "max       100.000000         48.935720       100.000000  \n",
       "\n",
       "[8 rows x 25 columns]"
      ]
     },
     "execution_count": 27,
     "metadata": {},
     "output_type": "execute_result"
    }
   ],
   "source": [
    "# Dataset statistics\n",
    "data.describe()"
   ]
  },
  {
   "cell_type": "markdown",
   "id": "0b2b9c8f-31b1-4cf3-a4e8-0363ce8f514a",
   "metadata": {},
   "source": [
    "# Preparation for model building"
   ]
  },
  {
   "cell_type": "code",
   "execution_count": 28,
   "id": "c4b8c929",
   "metadata": {},
   "outputs": [],
   "source": [
    "# Define a random state number for random operations in further steps\n",
    "# This helps ensuding the reproducibility of the the results\n",
    "random_state_num = 0"
   ]
  },
  {
   "cell_type": "markdown",
   "id": "5ec30b6d-665c-4af6-b2f8-2675a32cc1f4",
   "metadata": {},
   "source": [
    "## Selection of features and label"
   ]
  },
  {
   "cell_type": "markdown",
   "id": "e6787b88-45a8-4d18-a6fc-f031af536abc",
   "metadata": {},
   "source": [
    "The previous notebook illustrates the correlation between several indicators and considering the correalation plot it is noticeable that the CO2 Emission Per Capita is a dependent variable. This indicator is depended on the other independent variables. Hence, the indicators has been separated into features and label based on state of their dependency and correlation with each other. \n",
    "\n",
    "The indicators has been divided as follows:\n",
    "\n",
    "Label: \n",
    "* CO2_EM_PC: CO2 Emission Per Capita \n",
    "\n",
    "Features:\n",
    "\n",
    "* ALT_NUCL_EN_PERC: Alternative and nuclear energy (% of total energy use)\n",
    "* AIR_TRANS_FREIGHT: Air transport, freight (million ton-km)\n",
    "* COMB_REN_WASTE_PERC: Combustible renewables and waste (% of total energy)\n",
    "* ELEC_PROD_COAL_PERC: Electricity production from coal sources (% of total)\n",
    "* ELEC_PROD_HYDRO_PERC: Electricity production from hydroelectric sources (% of total)\n",
    "* ELEC_PROD_NAT_GAS_PERC: Electricity production from natural gas sources (% of total)\n",
    "* ELEC_PROD_OIL_PERC: Electricity production from oil sources (% of total)\n",
    "* EN_USE_PC: Energy use (kg of oil equivalent per capita)\n",
    "* FOSSIL_FUEL_EN_CONS_PERC: Fossil fuel energy consumption (% of total)\n",
    "* GDP_PC: GDP per capita (current US$)\n",
    "* POP_GROWTH_PERC: Population growth (annual %)\n",
    "* POP_URBAN_AGG: Population in urban agglomerations of more than 1 million (% of total population)\n",
    "* URBAN_POP_TOTAL: Urban population (% of total population)\n",
    "* URBAN_POP_GROWTH: Urban population growth (annual %)\n",
    "* METHANE_EM: Methane emissions (kt of CO2 equivalent)\n",
    "* NO2_EM: Nitrous oxide emissions (thousand metric tons of CO2 equivalent)"
   ]
  },
  {
   "cell_type": "code",
   "execution_count": 29,
   "id": "07214abb",
   "metadata": {},
   "outputs": [],
   "source": [
    "label_name = ['CO2_EM_PC']\n",
    "feature_names = [\n",
    "'CountryCode',\n",
    "'ALT_NUCL_EN_PERC',\n",
    "'AIR_TRANS_FREIGHT',\n",
    "'COMB_REN_WASTE_PERC',\n",
    "'CEREAL_YIELD',\n",
    "'ELEC_PROD_COAL_PERC',\n",
    "'ELEC_PROD_HYDRO_PERC',\n",
    "'ELEC_PROD_NAT_GAS_PERC',\n",
    "'ELEC_PROD_NUCL_PERC',\n",
    "'ELEC_PROD_OIL_PERC',\n",
    "'ELEC_PROD_RENW_SRC_PERC',\n",
    "'EN_USE_PC',\n",
    "'FOSSIL_FUEL_EN_CONS_PERC',\n",
    "'FUEL_IMPORT_PERC',\n",
    "'GDP_GROWTH_PERC',\n",
    "'GDP_PC',\n",
    "'POP_GROWTH_PERC',\n",
    "'POP_URBAN_AGG',\n",
    "'URBAN_POP_TOTAL',\n",
    "'URBAN_POP_GROWTH',\n",
    "'METHANE_EM',\n",
    "'NO2_EM'\n",
    "]"
   ]
  },
  {
   "cell_type": "code",
   "execution_count": null,
   "id": "a8364be1-8977-4a36-b5b9-5d6c47a12ddd",
   "metadata": {},
   "outputs": [],
   "source": [
    "## Convert features and label into numpy array"
   ]
  },
  {
   "cell_type": "code",
   "execution_count": 30,
   "id": "6fb8e471",
   "metadata": {},
   "outputs": [],
   "source": [
    "features = np.array(data[feature_names])\n",
    "labels =  np.array(data[label_name])"
   ]
  },
  {
   "cell_type": "markdown",
   "id": "dd4e3b0d-f330-48a4-b197-bdc742e15f94",
   "metadata": {},
   "source": [
    "## Split dataset into training and test subset"
   ]
  },
  {
   "cell_type": "markdown",
   "id": "ae450c47-adf9-483d-a0f6-99747bc82693",
   "metadata": {},
   "source": [
    "A vital part of the model building is splitting the dataset into training and testing subset. The features and label has been splitted in such way so the test subset contains the 40% of the data. These data remains unseen by the model and later used to validate the model predictions. "
   ]
  },
  {
   "cell_type": "code",
   "execution_count": 31,
   "id": "33ed61f1",
   "metadata": {},
   "outputs": [],
   "source": [
    "# Split the data into training and test subsets\n",
    "# Test data size is 40% of the total data\n",
    "nr.seed(1)\n",
    "X_train, X_test, y_train, y_test = train_test_split(features,\n",
    "                                                    labels,\n",
    "                                                    test_size=0.4,\n",
    "                                                    random_state=random_state_num)"
   ]
  },
  {
   "cell_type": "markdown",
   "id": "500a5bc4-38bb-4781-8b00-401b46372cdd",
   "metadata": {},
   "source": [
    "# Model building\n",
    "## Apply folding for finding out important features"
   ]
  },
  {
   "cell_type": "code",
   "execution_count": 32,
   "id": "118e23c3",
   "metadata": {
    "tags": []
   },
   "outputs": [
    {
     "name": "stdout",
     "output_type": "stream",
     "text": [
      "Ranking of features by importance:\n",
      "[1 1 1 1 2 1 1 1 5 1 3 1 1 4 6 1 1 1 1 1 1 1]\n",
      "Best features to choose:\n",
      "['CountryCode', 'ALT_NUCL_EN_PERC', 'AIR_TRANS_FREIGHT', 'COMB_REN_WASTE_PERC', 'ELEC_PROD_COAL_PERC', 'ELEC_PROD_HYDRO_PERC', 'ELEC_PROD_NAT_GAS_PERC', 'ELEC_PROD_OIL_PERC', 'EN_USE_PC', 'FOSSIL_FUEL_EN_CONS_PERC', 'GDP_PC', 'POP_GROWTH_PERC', 'POP_URBAN_AGG', 'URBAN_POP_TOTAL', 'URBAN_POP_GROWTH', 'METHANE_EM', 'NO2_EM']\n"
     ]
    }
   ],
   "source": [
    "# Set folds for cross validation for the feature selection\n",
    "nr.seed(1)\n",
    "feature_folds = ms.KFold(n_splits=4, shuffle = True, random_state=random_state_num)\n",
    "\n",
    "# Define the model\n",
    "model_selector = RandomForestRegressor(random_state=random_state_num) \n",
    "\n",
    "# Define an objects for a model for recursive feature elimination with CV\n",
    "nr.seed(1)\n",
    "selector = fs.RFECV(estimator = model_selector, cv = feature_folds, scoring = 'r2', n_jobs=-1)\n",
    "\n",
    "selector = selector.fit(X_train, np.ravel(y_train))\n",
    "selector.support_\n",
    "\n",
    "print(\"Ranking of features by importance:\")\n",
    "print(selector.ranking_)\n",
    "\n",
    "# print the important features\n",
    "ranks_transform = list(np.transpose(selector.ranking_))\n",
    "chosen_features = [i for i,j in zip(feature_names,ranks_transform) if j==1]\n",
    "print(\"Best features to choose:\")\n",
    "print(chosen_features)"
   ]
  },
  {
   "cell_type": "code",
   "execution_count": 33,
   "id": "c12e0b31",
   "metadata": {},
   "outputs": [
    {
     "name": "stdout",
     "output_type": "stream",
     "text": [
      "Previous training set:  (4224, 22)\n",
      "Reduced training set:  (4224, 17)\n",
      "Reduced testing set:  (2816, 17)\n"
     ]
    }
   ],
   "source": [
    "# Reduce the test and training set with only important features\n",
    "X_train_reduced = selector.transform(X_train)\n",
    "X_test_reduced = selector.transform(X_test)\n",
    "\n",
    "# View the dataset summary\n",
    "print(\"Previous training set: \", X_train.shape)\n",
    "print(\"Reduced training set: \", X_train_reduced.shape)\n",
    "print(\"Reduced testing set: \", X_test_reduced.shape)"
   ]
  },
  {
   "cell_type": "markdown",
   "id": "f8cfce86-2e35-4449-b3ab-d50e063aa1a9",
   "metadata": {},
   "source": [
    "## Hyperparameter tuning"
   ]
  },
  {
   "cell_type": "markdown",
   "id": "3740892f-ad94-4fd1-af22-9069f1cf1ebf",
   "metadata": {},
   "source": [
    "To choose the most suitable hyperparameters for the Random Forest hyperparameter tuning has been performed. The parameters which will be tuned in this case are:\n",
    "\n",
    "* n_estimators - number of decision trees in the random forest\n",
    "* max_features - number of features to consider at every split\n",
    "* max_depth - maximum number of levels in a tree\n",
    "* min_samples_split - minimum number of samples required to split a node\n",
    "* min_samples_leaf - minimum number of samples required at each leaf node\n"
   ]
  },
  {
   "cell_type": "code",
   "execution_count": 34,
   "id": "15f687b3",
   "metadata": {},
   "outputs": [],
   "source": [
    "# Hyperparameter value definition\n",
    "n_estimators = [int(x) for x in np.linspace(start = 200, stop = 2000, num = 10)]\n",
    "\n",
    "max_features = ['auto', 'sqrt']\n",
    "\n",
    "max_depth = [int(x) for x in np.linspace(10, 110, num = 11)]\n",
    "max_depth.append(None)\n",
    "\n",
    "min_samples_split = [2, 5, 10]\n",
    "\n",
    "min_samples_leaf = [1, 2, 4]\n",
    "\n",
    "# Define grid for hyper parameter\n",
    "param_grid = {'n_estimators': n_estimators,\n",
    "               'max_features': max_features,\n",
    "               'max_depth': max_depth,\n",
    "               'min_samples_split': min_samples_split,\n",
    "               'min_samples_leaf': min_samples_leaf}"
   ]
  },
  {
   "cell_type": "markdown",
   "id": "97c023f7-8243-4321-8a7a-fcf940ad5e3e",
   "metadata": {},
   "source": [
    "RandomizedSearchCV object evaluates the R2 scores of models with randomly picked combinations from the defined hyperparameter grid. "
   ]
  },
  {
   "cell_type": "code",
   "execution_count": 35,
   "id": "3667e9ab",
   "metadata": {},
   "outputs": [],
   "source": [
    "# Define cross validation folds\n",
    "nr.seed(1)\n",
    "inside_folds = ms.KFold(n_splits=5, shuffle = True, random_state=random_state_num)\n",
    "\n",
    "# Define random forest regressor model object\n",
    "rf_tuner = RandomForestRegressor(random_state=random_state_num)\n",
    "\n",
    "# Perform randomized search on the grid\n",
    "nr.seed(1)\n",
    "rf_model = ms.RandomizedSearchCV(estimator=rf_tuner, param_distributions = param_grid,\n",
    "                                 random_state=random_state_num, refit=True,\n",
    "                                 cv=inside_folds, scoring = 'r2', return_train_score=True, n_jobs=-1)"
   ]
  },
  {
   "cell_type": "markdown",
   "id": "38d50cab-435e-4e38-ae33-ab76982917b4",
   "metadata": {},
   "source": [
    "After training data being fitted, a Random forest model is returned with such hyper parameter combination that allows the best R2 score for the dataset. The RandomizedSearchVC runs test on different combinations of parameters to find out the best one. Once the best hyperparameter combination is found the model is then fitted with the training data. "
   ]
  },
  {
   "cell_type": "code",
   "execution_count": 36,
   "id": "f24ccbda",
   "metadata": {},
   "outputs": [
    {
     "name": "stdout",
     "output_type": "stream",
     "text": [
      "best number of estimators: 1600\n",
      "best max features: sqrt\n",
      "max depth: 20\n",
      "min samples split 2\n",
      "min samples leaf 1\n"
     ]
    }
   ],
   "source": [
    "# Fit the grid search model object with cross-validation on the data\n",
    "rf_model.fit(X_train_reduced, np.ravel(y_train))\n",
    "\n",
    "# Assign the best hyper parameter estimator\n",
    "best_n_estimators = rf_model.best_estimator_.n_estimators\n",
    "best_max_features = rf_model.best_estimator_.max_features\n",
    "\n",
    "print(\"best number of estimators:\", best_n_estimators)\n",
    "print(\"best max features:\", best_max_features)\n",
    "print(\"max depth:\", rf_model.best_estimator_.max_depth)\n",
    "print(\"min samples split\", rf_model.best_estimator_.min_samples_split)\n",
    "print(\"min samples leaf\", rf_model.best_estimator_.min_samples_leaf)"
   ]
  },
  {
   "cell_type": "markdown",
   "id": "e5d3f112-763a-467c-aba5-800636f7281a",
   "metadata": {
    "tags": []
   },
   "source": [
    "## Best model selection"
   ]
  },
  {
   "cell_type": "code",
   "execution_count": 37,
   "id": "a7014d53",
   "metadata": {},
   "outputs": [],
   "source": [
    "# Assign the best model returned in earlier steps\n",
    "# This model will be used for final testing and predictions\n",
    "rf_selected_model = rf_model.best_estimator_"
   ]
  },
  {
   "cell_type": "markdown",
   "id": "65e70046-2e03-47e3-a05b-043fb6224317",
   "metadata": {},
   "source": [
    "## Evaluation of the choosen model"
   ]
  },
  {
   "cell_type": "markdown",
   "id": "76020ac7-39cf-4719-8a39-52e43b922388",
   "metadata": {},
   "source": [
    "In this steps the evaluation of the selected model is performed with the reduced training dataset with important features. "
   ]
  },
  {
   "cell_type": "code",
   "execution_count": 38,
   "id": "3ec13efa",
   "metadata": {},
   "outputs": [
    {
     "name": "stderr",
     "output_type": "stream",
     "text": [
      "/Users/itorongo/Personal/USN/Second Semester/Data Science/Project/CS4020-ML-CO2-Emission-Prediction/venv/lib/python3.9/site-packages/sklearn/model_selection/_validation.py:680: DataConversionWarning: A column-vector y was passed when a 1d array was expected. Please change the shape of y to (n_samples,), for example using ravel().\n",
      "  estimator.fit(X_train, y_train, **fit_params)\n",
      "/Users/itorongo/Personal/USN/Second Semester/Data Science/Project/CS4020-ML-CO2-Emission-Prediction/venv/lib/python3.9/site-packages/sklearn/model_selection/_validation.py:680: DataConversionWarning: A column-vector y was passed when a 1d array was expected. Please change the shape of y to (n_samples,), for example using ravel().\n",
      "  estimator.fit(X_train, y_train, **fit_params)\n",
      "/Users/itorongo/Personal/USN/Second Semester/Data Science/Project/CS4020-ML-CO2-Emission-Prediction/venv/lib/python3.9/site-packages/sklearn/model_selection/_validation.py:680: DataConversionWarning: A column-vector y was passed when a 1d array was expected. Please change the shape of y to (n_samples,), for example using ravel().\n",
      "  estimator.fit(X_train, y_train, **fit_params)\n",
      "/Users/itorongo/Personal/USN/Second Semester/Data Science/Project/CS4020-ML-CO2-Emission-Prediction/venv/lib/python3.9/site-packages/sklearn/model_selection/_validation.py:680: DataConversionWarning: A column-vector y was passed when a 1d array was expected. Please change the shape of y to (n_samples,), for example using ravel().\n",
      "  estimator.fit(X_train, y_train, **fit_params)\n",
      "/Users/itorongo/Personal/USN/Second Semester/Data Science/Project/CS4020-ML-CO2-Emission-Prediction/venv/lib/python3.9/site-packages/sklearn/model_selection/_validation.py:680: DataConversionWarning: A column-vector y was passed when a 1d array was expected. Please change the shape of y to (n_samples,), for example using ravel().\n",
      "  estimator.fit(X_train, y_train, **fit_params)\n",
      "/Users/itorongo/Personal/USN/Second Semester/Data Science/Project/CS4020-ML-CO2-Emission-Prediction/venv/lib/python3.9/site-packages/sklearn/model_selection/_validation.py:680: DataConversionWarning: A column-vector y was passed when a 1d array was expected. Please change the shape of y to (n_samples,), for example using ravel().\n",
      "  estimator.fit(X_train, y_train, **fit_params)\n",
      "/Users/itorongo/Personal/USN/Second Semester/Data Science/Project/CS4020-ML-CO2-Emission-Prediction/venv/lib/python3.9/site-packages/sklearn/model_selection/_validation.py:680: DataConversionWarning: A column-vector y was passed when a 1d array was expected. Please change the shape of y to (n_samples,), for example using ravel().\n",
      "  estimator.fit(X_train, y_train, **fit_params)\n",
      "/Users/itorongo/Personal/USN/Second Semester/Data Science/Project/CS4020-ML-CO2-Emission-Prediction/venv/lib/python3.9/site-packages/sklearn/model_selection/_validation.py:680: DataConversionWarning: A column-vector y was passed when a 1d array was expected. Please change the shape of y to (n_samples,), for example using ravel().\n",
      "  estimator.fit(X_train, y_train, **fit_params)\n",
      "/Users/itorongo/Personal/USN/Second Semester/Data Science/Project/CS4020-ML-CO2-Emission-Prediction/venv/lib/python3.9/site-packages/sklearn/model_selection/_validation.py:680: DataConversionWarning: A column-vector y was passed when a 1d array was expected. Please change the shape of y to (n_samples,), for example using ravel().\n",
      "  estimator.fit(X_train, y_train, **fit_params)\n",
      "/Users/itorongo/Personal/USN/Second Semester/Data Science/Project/CS4020-ML-CO2-Emission-Prediction/venv/lib/python3.9/site-packages/sklearn/model_selection/_validation.py:680: DataConversionWarning: A column-vector y was passed when a 1d array was expected. Please change the shape of y to (n_samples,), for example using ravel().\n",
      "  estimator.fit(X_train, y_train, **fit_params)\n"
     ]
    },
    {
     "name": "stdout",
     "output_type": "stream",
     "text": [
      "Mean R2 score of all CV folds = 0.980\n",
      "Standard deviation of the R2 score over all folds = 0.009\n",
      "R2 score for each fold:\n",
      "Fold  1    0.982\n",
      "Fold  2    0.970\n",
      "Fold  3    0.987\n",
      "Fold  4    0.982\n",
      "Fold  5    0.979\n",
      "Fold  6    0.961\n",
      "Fold  7    0.989\n",
      "Fold  8    0.987\n",
      "Fold  9    0.990\n",
      "Fold 10    0.978\n"
     ]
    }
   ],
   "source": [
    "# Define cross validation folds\n",
    "nr.seed(1)\n",
    "outside_folds = ms.KFold(n_splits=10, shuffle = True, random_state=random_state_num)\n",
    "\n",
    "# Evaluate the model on the reduced training subset\n",
    "nr.seed(1)\n",
    "cv_eval = cross_val_score(rf_selected_model, X_train_reduced, y_train, cv = outside_folds, n_jobs=-1)\n",
    "\n",
    "print('Mean R2 score of all CV folds = %4.3f' % np.mean(cv_eval))\n",
    "print('Standard deviation of the R2 score over all folds = %4.3f' % np.std(cv_eval))\n",
    "print('R2 score for each fold:')\n",
    "\n",
    "# Observe R2 score of folds\n",
    "for i, j in enumerate(cv_eval):\n",
    "    print('Fold %2d    %4.3f' % (i+1, j))"
   ]
  },
  {
   "cell_type": "markdown",
   "id": "1e9f1364-9a2a-4821-8d1b-c9f38501a6fd",
   "metadata": {},
   "source": [
    "The fold scores are in between 0.961 and 0.990 with a negligible deviation of 0.009. This reflects that the model predicts pretty well in all ten folds as none of the folds returned worse accurancy in compared to the others. An overall R2 score of 0.980 indicates a promising predictions for all cases. "
   ]
  },
  {
   "cell_type": "markdown",
   "id": "23caa554-5d5f-4c8e-b86f-dcccd4700bed",
   "metadata": {},
   "source": [
    "## Model validation\n",
    "\n",
    "In this step, the selected model is evaluated with the testing dataset which is not seen by the model yet in any previous phases. R2 score, Mean Squared Error and Root Mean Squared Error metrics are considered to evaluate the quality of the model. "
   ]
  },
  {
   "cell_type": "code",
   "execution_count": 39,
   "id": "488d2fcc",
   "metadata": {},
   "outputs": [
    {
     "name": "stdout",
     "output_type": "stream",
     "text": [
      "R2= 0.9790159827309658\n",
      "Mean Squared Error: MSE= 0.5986716080312239\n",
      "Root Mean Squared Error: RMSE= 0.7737387207780311\n"
     ]
    }
   ],
   "source": [
    "# Make predictions from testing subset features data\n",
    "predictions = rf_selected_model.predict(X_test_reduced)\n",
    "\n",
    "# import the sklearn metrics functions for the metrics evaluation\n",
    "from sklearn.metrics import r2_score, mean_squared_error\n",
    "\n",
    "# calculate the metrics basing on the predicted and true values for the test subset\n",
    "r2 = r2_score(y_true=y_test, y_pred=predictions)\n",
    "mse = mean_squared_error(y_true=y_test, y_pred=predictions)\n",
    "rmse = np.sqrt(mse)\n",
    "\n",
    "print(\"R2=\", r2)\n",
    "print(\"Mean Squared Error: MSE=\", mse)\n",
    "print(\"Root Mean Squared Error: RMSE=\", rmse)"
   ]
  },
  {
   "cell_type": "markdown",
   "id": "f750c9cf-63a5-4248-b794-fcbc67dd207f",
   "metadata": {},
   "source": [
    "The model R2 score of 0.979 seems interestingly high and often it brings up issues like overfitting. However, a couple of special attention has been put to avoid overfitting. \n",
    "\n",
    "* Dataset is splitted into 60-40 ratio although the standard ratio is 70-30.\n",
    "* Cross-validation in each step of feature selection, hyperparameter tuning and while training model.\n",
    "\n",
    "Additionally, the preditictions of the model with unseen test data has been plotted below as well:"
   ]
  },
  {
   "cell_type": "code",
   "execution_count": 41,
   "id": "23008888",
   "metadata": {},
   "outputs": [
    {
     "data": {
      "image/png": "[encoded data removed]",
      "text/plain": [
       "<Figure size 1440x1080 with 1 Axes>"
      ]
     },
     "metadata": {},
     "output_type": "display_data"
    }
   ],
   "source": [
    "# View plot for actual value from the test subset vs predicted value\n",
    "f,ax=plt.subplots(figsize=(20,15))\n",
    "sns.set(font_scale=2)\n",
    "\n",
    "sns.regplot(x=predictions, y=np.transpose(y_test)[0,:], fit_reg=True)\n",
    "plt.xlabel(\"CO2 emissions per capita - predicted\")\n",
    "plt.ylabel(\"CO2 emissions per capita - Real\")\n",
    "plt.title(\"Correlation Coefficient R=\"+str(round(np.corrcoef(predictions,np.transpose(y_test)[0,:])[0,1],2)))\n",
    "plt.show()"
   ]
  },
  {
   "cell_type": "markdown",
   "id": "caf863bc-113f-4a41-9a69-35910bb05c02",
   "metadata": {},
   "source": [
    "# Model Persistence \n",
    "\n",
    "Finally, the model is saved into root directory to use on deploy it on the backend server."
   ]
  },
  {
   "cell_type": "code",
   "execution_count": 4,
   "id": "f0f04402-1c2b-42a9-b73c-d1510d818a74",
   "metadata": {},
   "outputs": [
    {
     "ename": "NameError",
     "evalue": "name 'rf_selected_model' is not defined",
     "output_type": "error",
     "traceback": [
      "\u001b[0;31m---------------------------------------------------------------------------\u001b[0m",
      "\u001b[0;31mNameError\u001b[0m                                 Traceback (most recent call last)",
      "\u001b[0;32m/var/folders/5c/r_9ctkln49z7njd3y00sgbfc0000gn/T/ipykernel_85531/3694932995.py\u001b[0m in \u001b[0;36m<module>\u001b[0;34m\u001b[0m\n\u001b[1;32m      4\u001b[0m \u001b[0mfile\u001b[0m \u001b[0;34m=\u001b[0m \u001b[0mopen\u001b[0m\u001b[0;34m(\u001b[0m\u001b[0;34m'../model/co2_emission_rf.pkl'\u001b[0m\u001b[0;34m,\u001b[0m \u001b[0;34m'wb'\u001b[0m\u001b[0;34m)\u001b[0m\u001b[0;34m\u001b[0m\u001b[0;34m\u001b[0m\u001b[0m\n\u001b[1;32m      5\u001b[0m \u001b[0;31m# Dump information to that file\u001b[0m\u001b[0;34m\u001b[0m\u001b[0;34m\u001b[0m\u001b[0m\n\u001b[0;32m----> 6\u001b[0;31m \u001b[0mpickle\u001b[0m\u001b[0;34m.\u001b[0m\u001b[0mdump\u001b[0m\u001b[0;34m(\u001b[0m\u001b[0mrf_selected_model\u001b[0m\u001b[0;34m,\u001b[0m \u001b[0mfile\u001b[0m\u001b[0;34m)\u001b[0m\u001b[0;34m\u001b[0m\u001b[0;34m\u001b[0m\u001b[0m\n\u001b[0m",
      "\u001b[0;31mNameError\u001b[0m: name 'rf_selected_model' is not defined"
     ]
    }
   ],
   "source": [
    "# Import pickle, a library to store and load machine learning model\n",
    "import pickle\n",
    "# Open a file to store the model data\n",
    "file = open('../model/co2_emission_rf.pkl', 'wb')\n",
    "# Dump information to that file\n",
    "pickle.dump(rf_selected_model, file)"
   ]
  },
  {
   "cell_type": "code",
   "execution_count": null,
   "id": "62bd2dd0-ecd8-4c6e-8496-eb287c78030c",
   "metadata": {},
   "outputs": [],
   "source": []
  }
 ],
 "metadata": {
  "kernelspec": {
   "display_name": "Python 3 (ipykernel)",
   "language": "python",
   "name": "python3"
  },
  "language_info": {
   "codemirror_mode": {
    "name": "ipython",
    "version": 3
   },
   "file_extension": ".py",
   "mimetype": "text/x-python",
   "name": "python",
   "nbconvert_exporter": "python",
   "pygments_lexer": "ipython3",
   "version": "3.9.6"
  }
 },
 "nbformat": 4,
 "nbformat_minor": 5
}
