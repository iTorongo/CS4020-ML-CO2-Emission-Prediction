{
 "cells": [
  {
   "cell_type": "code",
   "execution_count": 5,
   "id": "cb751b6c",
   "metadata": {},
   "outputs": [],
   "source": [
    "# import all needed libraries\n",
    "import pandas as pd\n",
    "import numpy as np\n",
    "import numpy.random as nr\n",
    "import sys\n",
    "import seaborn as sns\n",
    "import matplotlib.pyplot as plt\n",
    "\n",
    "from sklearn.linear_model import LinearRegression, Lasso, Ridge\n",
    "from sklearn.tree import DecisionTreeRegressor\n",
    "from sklearn.svm import SVR\n",
    "from sklearn.metrics import mean_squared_error ,r2_score, mean_absolute_error\n",
    "\n",
    "from sklearn.preprocessing import StandardScaler"
   ]
  },
  {
   "cell_type": "code",
   "execution_count": 6,
   "id": "7540a12f",
   "metadata": {},
   "outputs": [],
   "source": [
    "# load the processed dataset\n",
    "data = pd.read_csv('data_processed_label_encoded.csv')"
   ]
  },
  {
   "cell_type": "code",
   "execution_count": 7,
   "id": "1eedaca4",
   "metadata": {},
   "outputs": [
    {
     "data": {
      "text/plain": [
       "(7040, 25)"
      ]
     },
     "execution_count": 7,
     "metadata": {},
     "output_type": "execute_result"
    }
   ],
   "source": [
    "data.shape"
   ]
  },
  {
   "cell_type": "code",
   "execution_count": 31,
   "id": "244e654e",
   "metadata": {},
   "outputs": [
    {
     "data": {
      "text/plain": [
       "21"
      ]
     },
     "execution_count": 31,
     "metadata": {},
     "output_type": "execute_result"
    }
   ],
   "source": [
    "# label_name = ['CO2_EM_PC']\n",
    "# feature_names = [ \n",
    "# 'ALT_NUCL_EN_PERC',\n",
    "# 'AIR_TRANS_FREIGHT',\n",
    "# 'COMB_REN_WASTE_PERC',\n",
    "# 'CEREAL_YIELD',\n",
    "# 'ELEC_PROD_COAL_PERC',\n",
    "# 'ELEC_PROD_HYDRO_PERC',\n",
    "# 'ELEC_PROD_NAT_GAS_PERC',\n",
    "# 'ELEC_PROD_NUCL_PERC',\n",
    "# 'ELEC_PROD_OIL_PERC',\n",
    "# 'ELEC_PROD_RENW_SRC_PERC',\n",
    "# 'EN_USE_PC',\n",
    "# 'FOSSIL_FUEL_EN_CONS_PERC',\n",
    "# 'FUEL_IMPORT_PERC',\n",
    "# 'GDP_GROWTH_PERC',\n",
    "# 'GDP_PC',\n",
    "# 'POP_GROWTH_PERC',\n",
    "# 'POP_URBAN_AGG',\n",
    "# 'URBAN_POP_TOTAL',\n",
    "# 'URBAN_POP_GROWTH',\n",
    "# 'METHANE_EM',\n",
    "# 'NO2_EM'\n",
    "# ]\n",
    "# len(feature_names)"
   ]
  },
  {
   "cell_type": "code",
   "execution_count": 32,
   "id": "085bbb20",
   "metadata": {},
   "outputs": [],
   "source": [
    "# convert into nympy arrays (required for scikit-learn models)\n",
    "# features = np.array(data[feature_names])\n",
    "# labels =  np.array(data[label_name])"
   ]
  },
  {
   "cell_type": "code",
   "execution_count": 8,
   "id": "8f9afb95",
   "metadata": {},
   "outputs": [],
   "source": [
    "X = data.drop('CO2_EM_PC', axis=1)\n",
    "y = data['CO2_EM_PC']"
   ]
  },
  {
   "cell_type": "code",
   "execution_count": 29,
   "id": "3d3c5bdc",
   "metadata": {},
   "outputs": [],
   "source": [
    "# splitting of traing testing set into X and y\n",
    "\n",
    "from sklearn.model_selection import train_test_split\n",
    "\n",
    "X_train,X_test, y_train, y_test = train_test_split(X, y, test_size=0.4, random_state=42)"
   ]
  },
  {
   "cell_type": "code",
   "execution_count": 30,
   "id": "4df6b371",
   "metadata": {},
   "outputs": [],
   "source": [
    "scaler =StandardScaler()\n",
    "\n",
    "X_train = scaler.fit_transform(X_train)\n",
    "X_test = scaler.transform(X_test)"
   ]
  },
  {
   "cell_type": "code",
   "execution_count": null,
   "id": "cb0fcfe5",
   "metadata": {},
   "outputs": [],
   "source": [
    "# Linear Regression"
   ]
  },
  {
   "cell_type": "code",
   "execution_count": 31,
   "id": "34609254",
   "metadata": {},
   "outputs": [
    {
     "data": {
      "text/plain": [
       "LinearRegression()"
      ]
     },
     "execution_count": 31,
     "metadata": {},
     "output_type": "execute_result"
    }
   ],
   "source": [
    "model = LinearRegression()\n",
    "model.fit(X_train, y_train)"
   ]
  },
  {
   "cell_type": "code",
   "execution_count": 32,
   "id": "f6804e1d",
   "metadata": {},
   "outputs": [
    {
     "data": {
      "text/plain": [
       "4.683442041468609"
      ]
     },
     "execution_count": 32,
     "metadata": {},
     "output_type": "execute_result"
    }
   ],
   "source": [
    "model.intercept_"
   ]
  },
  {
   "cell_type": "code",
   "execution_count": 33,
   "id": "ff7a773c",
   "metadata": {},
   "outputs": [
    {
     "data": {
      "text/plain": [
       "array([ 2.80980523e-01, -3.31752353e-01, -5.21775176e-02, -8.00497886e-01,\n",
       "        4.16870505e-01,  5.96584795e-01,  1.27663706e+00, -1.16764280e+00,\n",
       "       -1.32174863e+00, -9.64940562e-01, -3.71204120e-01, -1.38850907e+00,\n",
       "       -4.17247058e-01,  4.16258633e+00,  1.71417480e+00, -7.59737179e-04,\n",
       "       -1.11849402e-02, -6.18471853e-02, -2.45845154e-01, -1.02078133e-01,\n",
       "        1.69595654e-01,  5.01297045e-02, -1.85779898e-01,  8.72509512e-01])"
      ]
     },
     "execution_count": 33,
     "metadata": {},
     "output_type": "execute_result"
    }
   ],
   "source": [
    "model.coef_"
   ]
  },
  {
   "cell_type": "code",
   "execution_count": 34,
   "id": "9ac95875",
   "metadata": {},
   "outputs": [
    {
     "data": {
      "text/plain": [
       "array([ 3.38426293, 23.94935321, 10.62699117, ...,  1.35790406,\n",
       "        8.67727694, -0.24360457])"
      ]
     },
     "execution_count": 34,
     "metadata": {},
     "output_type": "execute_result"
    }
   ],
   "source": [
    "y_pred = model.predict(X_test)\n",
    "y_pred"
   ]
  },
  {
   "cell_type": "code",
   "execution_count": 35,
   "id": "946fb6a9",
   "metadata": {},
   "outputs": [
    {
     "data": {
      "text/plain": [
       "2.175468538597583"
      ]
     },
     "execution_count": 35,
     "metadata": {},
     "output_type": "execute_result"
    }
   ],
   "source": [
    "np.sqrt(mean_squared_error(y_test, y_pred))"
   ]
  },
  {
   "cell_type": "code",
   "execution_count": 36,
   "id": "129d2afb",
   "metadata": {},
   "outputs": [
    {
     "data": {
      "text/plain": [
       "0.8352645586452482"
      ]
     },
     "execution_count": 36,
     "metadata": {},
     "output_type": "execute_result"
    }
   ],
   "source": [
    "r2_score(y_test, y_pred)"
   ]
  },
  {
   "cell_type": "code",
   "execution_count": 38,
   "id": "967c4087",
   "metadata": {},
   "outputs": [],
   "source": [
    "frames = [y_pred, y_test.values]\n",
    "result_pred = pd.DataFrame(data=frames)\n",
    "result_pred = result_pred.T"
   ]
  },
  {
   "cell_type": "code",
   "execution_count": 39,
   "id": "5818d952",
   "metadata": {},
   "outputs": [
    {
     "data": {
      "text/html": [
       "<div>\n",
       "<style scoped>\n",
       "    .dataframe tbody tr th:only-of-type {\n",
       "        vertical-align: middle;\n",
       "    }\n",
       "\n",
       "    .dataframe tbody tr th {\n",
       "        vertical-align: top;\n",
       "    }\n",
       "\n",
       "    .dataframe thead th {\n",
       "        text-align: right;\n",
       "    }\n",
       "</style>\n",
       "<table border=\"1\" class=\"dataframe\">\n",
       "  <thead>\n",
       "    <tr style=\"text-align: right;\">\n",
       "      <th></th>\n",
       "      <th>pred_values</th>\n",
       "      <th>real_values</th>\n",
       "    </tr>\n",
       "  </thead>\n",
       "  <tbody>\n",
       "    <tr>\n",
       "      <th>0</th>\n",
       "      <td>3.38</td>\n",
       "      <td>1.480830</td>\n",
       "    </tr>\n",
       "    <tr>\n",
       "      <th>1</th>\n",
       "      <td>23.95</td>\n",
       "      <td>26.146800</td>\n",
       "    </tr>\n",
       "    <tr>\n",
       "      <th>2</th>\n",
       "      <td>10.63</td>\n",
       "      <td>11.951632</td>\n",
       "    </tr>\n",
       "    <tr>\n",
       "      <th>3</th>\n",
       "      <td>-0.00</td>\n",
       "      <td>0.138630</td>\n",
       "    </tr>\n",
       "    <tr>\n",
       "      <th>4</th>\n",
       "      <td>4.59</td>\n",
       "      <td>4.377988</td>\n",
       "    </tr>\n",
       "    <tr>\n",
       "      <th>...</th>\n",
       "      <td>...</td>\n",
       "      <td>...</td>\n",
       "    </tr>\n",
       "    <tr>\n",
       "      <th>2811</th>\n",
       "      <td>0.31</td>\n",
       "      <td>0.522618</td>\n",
       "    </tr>\n",
       "    <tr>\n",
       "      <th>2812</th>\n",
       "      <td>20.55</td>\n",
       "      <td>27.431434</td>\n",
       "    </tr>\n",
       "    <tr>\n",
       "      <th>2813</th>\n",
       "      <td>1.36</td>\n",
       "      <td>1.232285</td>\n",
       "    </tr>\n",
       "    <tr>\n",
       "      <th>2814</th>\n",
       "      <td>8.68</td>\n",
       "      <td>9.340093</td>\n",
       "    </tr>\n",
       "    <tr>\n",
       "      <th>2815</th>\n",
       "      <td>-0.24</td>\n",
       "      <td>0.077644</td>\n",
       "    </tr>\n",
       "  </tbody>\n",
       "</table>\n",
       "<p>2816 rows × 2 columns</p>\n",
       "</div>"
      ],
      "text/plain": [
       "      pred_values  real_values\n",
       "0            3.38     1.480830\n",
       "1           23.95    26.146800\n",
       "2           10.63    11.951632\n",
       "3           -0.00     0.138630\n",
       "4            4.59     4.377988\n",
       "...           ...          ...\n",
       "2811         0.31     0.522618\n",
       "2812        20.55    27.431434\n",
       "2813         1.36     1.232285\n",
       "2814         8.68     9.340093\n",
       "2815        -0.24     0.077644\n",
       "\n",
       "[2816 rows x 2 columns]"
      ]
     },
     "execution_count": 39,
     "metadata": {},
     "output_type": "execute_result"
    }
   ],
   "source": [
    "lin_pred = result_pred.rename(columns={0: 'pred_values',1:'real_values'})\n",
    "lin_pred['pred_values'] = lin_pred['pred_values'].map(lambda x: round(x,2))\n",
    "\n",
    "lin_pred"
   ]
  },
  {
   "cell_type": "code",
   "execution_count": 40,
   "id": "7b558937",
   "metadata": {},
   "outputs": [
    {
     "name": "stdout",
     "output_type": "stream",
     "text": [
      "mean diff:  1.2499109116014055\n"
     ]
    }
   ],
   "source": [
    "lin_pred['diff'] = abs(lin_pred['pred_values'] - lin_pred['real_values'])\n",
    "\n",
    "print('mean diff: ', (abs(lin_pred['diff']).mean()))"
   ]
  },
  {
   "cell_type": "code",
   "execution_count": 41,
   "id": "7c414dc6",
   "metadata": {},
   "outputs": [
    {
     "data": {
      "text/html": [
       "<div>\n",
       "<style scoped>\n",
       "    .dataframe tbody tr th:only-of-type {\n",
       "        vertical-align: middle;\n",
       "    }\n",
       "\n",
       "    .dataframe tbody tr th {\n",
       "        vertical-align: top;\n",
       "    }\n",
       "\n",
       "    .dataframe thead th {\n",
       "        text-align: right;\n",
       "    }\n",
       "</style>\n",
       "<table border=\"1\" class=\"dataframe\">\n",
       "  <thead>\n",
       "    <tr style=\"text-align: right;\">\n",
       "      <th></th>\n",
       "      <th>pred_values</th>\n",
       "      <th>real_values</th>\n",
       "      <th>diff</th>\n",
       "    </tr>\n",
       "  </thead>\n",
       "  <tbody>\n",
       "    <tr>\n",
       "      <th>0</th>\n",
       "      <td>3.38</td>\n",
       "      <td>1.480830</td>\n",
       "      <td>1.899170</td>\n",
       "    </tr>\n",
       "    <tr>\n",
       "      <th>1</th>\n",
       "      <td>23.95</td>\n",
       "      <td>26.146800</td>\n",
       "      <td>2.196800</td>\n",
       "    </tr>\n",
       "    <tr>\n",
       "      <th>2</th>\n",
       "      <td>10.63</td>\n",
       "      <td>11.951632</td>\n",
       "      <td>1.321632</td>\n",
       "    </tr>\n",
       "    <tr>\n",
       "      <th>3</th>\n",
       "      <td>-0.00</td>\n",
       "      <td>0.138630</td>\n",
       "      <td>0.138630</td>\n",
       "    </tr>\n",
       "    <tr>\n",
       "      <th>4</th>\n",
       "      <td>4.59</td>\n",
       "      <td>4.377988</td>\n",
       "      <td>0.212012</td>\n",
       "    </tr>\n",
       "    <tr>\n",
       "      <th>5</th>\n",
       "      <td>1.39</td>\n",
       "      <td>0.895302</td>\n",
       "      <td>0.494698</td>\n",
       "    </tr>\n",
       "    <tr>\n",
       "      <th>6</th>\n",
       "      <td>0.11</td>\n",
       "      <td>0.326343</td>\n",
       "      <td>0.216343</td>\n",
       "    </tr>\n",
       "    <tr>\n",
       "      <th>7</th>\n",
       "      <td>7.41</td>\n",
       "      <td>7.627070</td>\n",
       "      <td>0.217070</td>\n",
       "    </tr>\n",
       "    <tr>\n",
       "      <th>8</th>\n",
       "      <td>3.27</td>\n",
       "      <td>2.184579</td>\n",
       "      <td>1.085421</td>\n",
       "    </tr>\n",
       "    <tr>\n",
       "      <th>9</th>\n",
       "      <td>0.77</td>\n",
       "      <td>0.757221</td>\n",
       "      <td>0.012779</td>\n",
       "    </tr>\n",
       "  </tbody>\n",
       "</table>\n",
       "</div>"
      ],
      "text/plain": [
       "   pred_values  real_values      diff\n",
       "0         3.38     1.480830  1.899170\n",
       "1        23.95    26.146800  2.196800\n",
       "2        10.63    11.951632  1.321632\n",
       "3        -0.00     0.138630  0.138630\n",
       "4         4.59     4.377988  0.212012\n",
       "5         1.39     0.895302  0.494698\n",
       "6         0.11     0.326343  0.216343\n",
       "7         7.41     7.627070  0.217070\n",
       "8         3.27     2.184579  1.085421\n",
       "9         0.77     0.757221  0.012779"
      ]
     },
     "execution_count": 41,
     "metadata": {},
     "output_type": "execute_result"
    }
   ],
   "source": [
    "lin_pred.head(10)"
   ]
  },
  {
   "cell_type": "code",
   "execution_count": 42,
   "id": "04407bf9",
   "metadata": {},
   "outputs": [
    {
     "data": {
      "text/plain": [
       "<AxesSubplot:xlabel='CO2_EM_PC', ylabel='Count'>"
      ]
     },
     "execution_count": 42,
     "metadata": {},
     "output_type": "execute_result"
    },
    {
     "data": {
      "image/png": "[encoded data removed]",
      "text/plain": [
       "<Figure size 432x288 with 1 Axes>"
      ]
     },
     "metadata": {
      "needs_background": "light"
     },
     "output_type": "display_data"
    }
   ],
   "source": [
    "sns.histplot(y_pred-y_test)"
   ]
  },
  {
   "cell_type": "code",
   "execution_count": 43,
   "id": "c77d04dd",
   "metadata": {},
   "outputs": [
    {
     "data": {
      "text/plain": [
       "Text(0, 0.5, 'y_pred')"
      ]
     },
     "execution_count": 43,
     "metadata": {},
     "output_type": "execute_result"
    },
    {
     "data": {
      "image/png": "[encoded data removed]",
      "text/plain": [
       "<Figure size 432x288 with 1 Axes>"
      ]
     },
     "metadata": {
      "needs_background": "light"
     },
     "output_type": "display_data"
    }
   ],
   "source": [
    "plt.scatter( y_test,y_pred)\n",
    "plt.xlabel('y_test')\n",
    "plt.ylabel('y_pred')"
   ]
  },
  {
   "cell_type": "code",
   "execution_count": 45,
   "id": "36e5dbf4",
   "metadata": {},
   "outputs": [
    {
     "data": {
      "image/png": "[encoded data removed]",
      "text/plain": [
       "<Figure size 432x288 with 1 Axes>"
      ]
     },
     "metadata": {
      "needs_background": "light"
     },
     "output_type": "display_data"
    },
    {
     "data": {
      "image/png": "[encoded data removed]",
      "text/plain": [
       "<Figure size 432x288 with 1 Axes>"
      ]
     },
     "metadata": {
      "needs_background": "light"
     },
     "output_type": "display_data"
    }
   ],
   "source": [
    "sns.histplot(y_pred, bins=20,color='red')\n",
    "plt.show()\n",
    "sns.histplot(data['CO2_EM_PC'], bins=20)\n",
    "plt.show()\n"
   ]
  },
  {
   "cell_type": "code",
   "execution_count": null,
   "id": "fa01e385",
   "metadata": {},
   "outputs": [],
   "source": [
    "#DECISION TREE REGRESSION"
   ]
  },
  {
   "cell_type": "code",
   "execution_count": 46,
   "id": "3682fd3e",
   "metadata": {},
   "outputs": [
    {
     "data": {
      "text/plain": [
       "DecisionTreeRegressor(random_state=42)"
      ]
     },
     "execution_count": 46,
     "metadata": {},
     "output_type": "execute_result"
    }
   ],
   "source": [
    "from sklearn.tree import DecisionTreeRegressor\n",
    "\n",
    "model = DecisionTreeRegressor(random_state = 42)\n",
    "\n",
    "model.fit(X_train, y_train)"
   ]
  },
  {
   "cell_type": "code",
   "execution_count": 47,
   "id": "e5355148",
   "metadata": {},
   "outputs": [
    {
     "data": {
      "text/plain": [
       "array([ 1.6674123 , 24.30514892,  6.08224227, ...,  1.25614581,\n",
       "        8.83664294,  0.0800615 ])"
      ]
     },
     "execution_count": 47,
     "metadata": {},
     "output_type": "execute_result"
    }
   ],
   "source": [
    "dtr_pred = model.predict(X_test)\n",
    "dtr_pred"
   ]
  },
  {
   "cell_type": "code",
   "execution_count": 48,
   "id": "47bd1e72",
   "metadata": {},
   "outputs": [
    {
     "data": {
      "text/plain": [
       "1.0766627592488185"
      ]
     },
     "execution_count": 48,
     "metadata": {},
     "output_type": "execute_result"
    }
   ],
   "source": [
    "np.sqrt(mean_squared_error(y_test,dtr_pred ))"
   ]
  },
  {
   "cell_type": "code",
   "execution_count": 49,
   "id": "75d6876f",
   "metadata": {},
   "outputs": [
    {
     "data": {
      "text/plain": [
       "0.959650253290528"
      ]
     },
     "execution_count": 49,
     "metadata": {},
     "output_type": "execute_result"
    }
   ],
   "source": [
    "r2_score(y_test, dtr_pred)"
   ]
  },
  {
   "cell_type": "code",
   "execution_count": 50,
   "id": "11b7476a",
   "metadata": {},
   "outputs": [
    {
     "data": {
      "text/html": [
       "<div>\n",
       "<style scoped>\n",
       "    .dataframe tbody tr th:only-of-type {\n",
       "        vertical-align: middle;\n",
       "    }\n",
       "\n",
       "    .dataframe tbody tr th {\n",
       "        vertical-align: top;\n",
       "    }\n",
       "\n",
       "    .dataframe thead th {\n",
       "        text-align: right;\n",
       "    }\n",
       "</style>\n",
       "<table border=\"1\" class=\"dataframe\">\n",
       "  <thead>\n",
       "    <tr style=\"text-align: right;\">\n",
       "      <th></th>\n",
       "      <th>0</th>\n",
       "      <th>1</th>\n",
       "    </tr>\n",
       "  </thead>\n",
       "  <tbody>\n",
       "    <tr>\n",
       "      <th>0</th>\n",
       "      <td>1.667412</td>\n",
       "      <td>1.480830</td>\n",
       "    </tr>\n",
       "    <tr>\n",
       "      <th>1</th>\n",
       "      <td>24.305149</td>\n",
       "      <td>26.146800</td>\n",
       "    </tr>\n",
       "    <tr>\n",
       "      <th>2</th>\n",
       "      <td>6.082242</td>\n",
       "      <td>11.951632</td>\n",
       "    </tr>\n",
       "    <tr>\n",
       "      <th>3</th>\n",
       "      <td>0.135983</td>\n",
       "      <td>0.138630</td>\n",
       "    </tr>\n",
       "    <tr>\n",
       "      <th>4</th>\n",
       "      <td>4.911682</td>\n",
       "      <td>4.377988</td>\n",
       "    </tr>\n",
       "  </tbody>\n",
       "</table>\n",
       "</div>"
      ],
      "text/plain": [
       "           0          1\n",
       "0   1.667412   1.480830\n",
       "1  24.305149  26.146800\n",
       "2   6.082242  11.951632\n",
       "3   0.135983   0.138630\n",
       "4   4.911682   4.377988"
      ]
     },
     "execution_count": 50,
     "metadata": {},
     "output_type": "execute_result"
    }
   ],
   "source": [
    "frames = [dtr_pred, y_test.values]\n",
    "result_pred = pd.DataFrame(data=frames)\n",
    "result_pred = result_pred.T\n",
    "result_pred.head()"
   ]
  },
  {
   "cell_type": "code",
   "execution_count": 51,
   "id": "411d9079",
   "metadata": {},
   "outputs": [
    {
     "name": "stdout",
     "output_type": "stream",
     "text": [
      "mean diff:  0.3782295130589393\n"
     ]
    }
   ],
   "source": [
    "dtr_pred = result_pred.rename(columns={0: 'pred_values', 1:'real_values'})\n",
    "dtr_pred['pred_values'] = (dtr_pred['pred_values'].map(lambda x: round(x,2)))\n",
    "\n",
    "dtr_pred['diff'] = abs(dtr_pred['real_values'] -dtr_pred['pred_values'])\n",
    "\n",
    "\n",
    "print('mean diff: ', abs(dtr_pred['diff']).mean())\n"
   ]
  },
  {
   "cell_type": "code",
   "execution_count": 52,
   "id": "74ef1c34",
   "metadata": {},
   "outputs": [
    {
     "data": {
      "text/html": [
       "<div>\n",
       "<style scoped>\n",
       "    .dataframe tbody tr th:only-of-type {\n",
       "        vertical-align: middle;\n",
       "    }\n",
       "\n",
       "    .dataframe tbody tr th {\n",
       "        vertical-align: top;\n",
       "    }\n",
       "\n",
       "    .dataframe thead th {\n",
       "        text-align: right;\n",
       "    }\n",
       "</style>\n",
       "<table border=\"1\" class=\"dataframe\">\n",
       "  <thead>\n",
       "    <tr style=\"text-align: right;\">\n",
       "      <th></th>\n",
       "      <th>pred_values</th>\n",
       "      <th>real_values</th>\n",
       "      <th>diff</th>\n",
       "    </tr>\n",
       "  </thead>\n",
       "  <tbody>\n",
       "    <tr>\n",
       "      <th>0</th>\n",
       "      <td>1.67</td>\n",
       "      <td>1.480830</td>\n",
       "      <td>0.189170</td>\n",
       "    </tr>\n",
       "    <tr>\n",
       "      <th>1</th>\n",
       "      <td>24.31</td>\n",
       "      <td>26.146800</td>\n",
       "      <td>1.836800</td>\n",
       "    </tr>\n",
       "    <tr>\n",
       "      <th>2</th>\n",
       "      <td>6.08</td>\n",
       "      <td>11.951632</td>\n",
       "      <td>5.871632</td>\n",
       "    </tr>\n",
       "    <tr>\n",
       "      <th>3</th>\n",
       "      <td>0.14</td>\n",
       "      <td>0.138630</td>\n",
       "      <td>0.001370</td>\n",
       "    </tr>\n",
       "    <tr>\n",
       "      <th>4</th>\n",
       "      <td>4.91</td>\n",
       "      <td>4.377988</td>\n",
       "      <td>0.532012</td>\n",
       "    </tr>\n",
       "    <tr>\n",
       "      <th>5</th>\n",
       "      <td>0.84</td>\n",
       "      <td>0.895302</td>\n",
       "      <td>0.055302</td>\n",
       "    </tr>\n",
       "    <tr>\n",
       "      <th>6</th>\n",
       "      <td>0.30</td>\n",
       "      <td>0.326343</td>\n",
       "      <td>0.026343</td>\n",
       "    </tr>\n",
       "    <tr>\n",
       "      <th>7</th>\n",
       "      <td>7.64</td>\n",
       "      <td>7.627070</td>\n",
       "      <td>0.012930</td>\n",
       "    </tr>\n",
       "    <tr>\n",
       "      <th>8</th>\n",
       "      <td>2.17</td>\n",
       "      <td>2.184579</td>\n",
       "      <td>0.014579</td>\n",
       "    </tr>\n",
       "    <tr>\n",
       "      <th>9</th>\n",
       "      <td>0.60</td>\n",
       "      <td>0.757221</td>\n",
       "      <td>0.157221</td>\n",
       "    </tr>\n",
       "  </tbody>\n",
       "</table>\n",
       "</div>"
      ],
      "text/plain": [
       "   pred_values  real_values      diff\n",
       "0         1.67     1.480830  0.189170\n",
       "1        24.31    26.146800  1.836800\n",
       "2         6.08    11.951632  5.871632\n",
       "3         0.14     0.138630  0.001370\n",
       "4         4.91     4.377988  0.532012\n",
       "5         0.84     0.895302  0.055302\n",
       "6         0.30     0.326343  0.026343\n",
       "7         7.64     7.627070  0.012930\n",
       "8         2.17     2.184579  0.014579\n",
       "9         0.60     0.757221  0.157221"
      ]
     },
     "execution_count": 52,
     "metadata": {},
     "output_type": "execute_result"
    }
   ],
   "source": [
    "dtr_pred.head(10)"
   ]
  },
  {
   "cell_type": "code",
   "execution_count": null,
   "id": "127afcbb",
   "metadata": {},
   "outputs": [],
   "source": [
    "#Random Forest"
   ]
  },
  {
   "cell_type": "code",
   "execution_count": 55,
   "id": "e4834f5a",
   "metadata": {},
   "outputs": [
    {
     "data": {
      "text/plain": [
       "RandomForestRegressor()"
      ]
     },
     "execution_count": 55,
     "metadata": {},
     "output_type": "execute_result"
    }
   ],
   "source": [
    "from sklearn.ensemble import RandomForestRegressor\n",
    "rf_model = RandomForestRegressor()\n",
    "rf_model.fit(X_train, y_train)\n"
   ]
  },
  {
   "cell_type": "code",
   "execution_count": 56,
   "id": "2199d046",
   "metadata": {},
   "outputs": [
    {
     "data": {
      "text/plain": [
       "array([ 1.76028859, 24.61124541, 10.82673077, ...,  1.22732187,\n",
       "        8.95532547,  0.07808335])"
      ]
     },
     "execution_count": 56,
     "metadata": {},
     "output_type": "execute_result"
    }
   ],
   "source": [
    "y_rf_pred = rf_model.predict(X_test)\n",
    "y_rf_pred"
   ]
  },
  {
   "cell_type": "code",
   "execution_count": 60,
   "id": "e61f84c9",
   "metadata": {},
   "outputs": [
    {
     "name": "stdout",
     "output_type": "stream",
     "text": [
      "RMSE: 0.6859\n",
      "MAE: 0.2719\n",
      "R2_score: 0.9836\n",
      "MSE: 0.4704\n"
     ]
    }
   ],
   "source": [
    "print('RMSE: {:0.4f}'.format(np.sqrt(mean_squared_error(y_test,y_rf_pred))))\n",
    "print('MAE: {:0.4f}'.format(mean_absolute_error(y_test,y_rf_pred)))\n",
    "print('R2_score: {:0.4f}'.format(r2_score(y_test,y_rf_pred)))\n",
    "print('MSE: {:0.4f}'.format(mean_squared_error(y_test, y_rf_pred)))"
   ]
  },
  {
   "cell_type": "code",
   "execution_count": 61,
   "id": "28d89c32",
   "metadata": {},
   "outputs": [
    {
     "data": {
      "text/html": [
       "<div>\n",
       "<style scoped>\n",
       "    .dataframe tbody tr th:only-of-type {\n",
       "        vertical-align: middle;\n",
       "    }\n",
       "\n",
       "    .dataframe tbody tr th {\n",
       "        vertical-align: top;\n",
       "    }\n",
       "\n",
       "    .dataframe thead th {\n",
       "        text-align: right;\n",
       "    }\n",
       "</style>\n",
       "<table border=\"1\" class=\"dataframe\">\n",
       "  <thead>\n",
       "    <tr style=\"text-align: right;\">\n",
       "      <th></th>\n",
       "      <th>0</th>\n",
       "      <th>1</th>\n",
       "    </tr>\n",
       "  </thead>\n",
       "  <tbody>\n",
       "    <tr>\n",
       "      <th>0</th>\n",
       "      <td>1.760289</td>\n",
       "      <td>1.480830</td>\n",
       "    </tr>\n",
       "    <tr>\n",
       "      <th>1</th>\n",
       "      <td>24.611245</td>\n",
       "      <td>26.146800</td>\n",
       "    </tr>\n",
       "    <tr>\n",
       "      <th>2</th>\n",
       "      <td>10.826731</td>\n",
       "      <td>11.951632</td>\n",
       "    </tr>\n",
       "    <tr>\n",
       "      <th>3</th>\n",
       "      <td>0.142847</td>\n",
       "      <td>0.138630</td>\n",
       "    </tr>\n",
       "    <tr>\n",
       "      <th>4</th>\n",
       "      <td>4.883570</td>\n",
       "      <td>4.377988</td>\n",
       "    </tr>\n",
       "  </tbody>\n",
       "</table>\n",
       "</div>"
      ],
      "text/plain": [
       "           0          1\n",
       "0   1.760289   1.480830\n",
       "1  24.611245  26.146800\n",
       "2  10.826731  11.951632\n",
       "3   0.142847   0.138630\n",
       "4   4.883570   4.377988"
      ]
     },
     "execution_count": 61,
     "metadata": {},
     "output_type": "execute_result"
    }
   ],
   "source": [
    "frames = [y_rf_pred, y_test.values]\n",
    "result_pred = pd.DataFrame(data=frames)\n",
    "result_pred = result_pred.T\n",
    "result_pred.head()"
   ]
  },
  {
   "cell_type": "code",
   "execution_count": 62,
   "id": "2b686eb7",
   "metadata": {},
   "outputs": [
    {
     "name": "stdout",
     "output_type": "stream",
     "text": [
      "mean diff:  0.2720411226684882\n"
     ]
    }
   ],
   "source": [
    "y_rf_pred = result_pred.rename(columns={0: 'pred_values', 1:'real_values'})\n",
    "y_rf_pred['pred_values'] = (y_rf_pred['pred_values'].map(lambda x: round(x,2)))\n",
    "\n",
    "y_rf_pred['diff'] = abs(y_rf_pred['real_values'] -y_rf_pred['pred_values'])\n",
    "\n",
    "\n",
    "print('mean diff: ', abs(y_rf_pred['diff']).mean())"
   ]
  },
  {
   "cell_type": "code",
   "execution_count": 63,
   "id": "f8e8a0a8",
   "metadata": {},
   "outputs": [
    {
     "data": {
      "text/html": [
       "<div>\n",
       "<style scoped>\n",
       "    .dataframe tbody tr th:only-of-type {\n",
       "        vertical-align: middle;\n",
       "    }\n",
       "\n",
       "    .dataframe tbody tr th {\n",
       "        vertical-align: top;\n",
       "    }\n",
       "\n",
       "    .dataframe thead th {\n",
       "        text-align: right;\n",
       "    }\n",
       "</style>\n",
       "<table border=\"1\" class=\"dataframe\">\n",
       "  <thead>\n",
       "    <tr style=\"text-align: right;\">\n",
       "      <th></th>\n",
       "      <th>pred_values</th>\n",
       "      <th>real_values</th>\n",
       "      <th>diff</th>\n",
       "    </tr>\n",
       "  </thead>\n",
       "  <tbody>\n",
       "    <tr>\n",
       "      <th>0</th>\n",
       "      <td>1.76</td>\n",
       "      <td>1.480830</td>\n",
       "      <td>0.279170</td>\n",
       "    </tr>\n",
       "    <tr>\n",
       "      <th>1</th>\n",
       "      <td>24.61</td>\n",
       "      <td>26.146800</td>\n",
       "      <td>1.536800</td>\n",
       "    </tr>\n",
       "    <tr>\n",
       "      <th>2</th>\n",
       "      <td>10.83</td>\n",
       "      <td>11.951632</td>\n",
       "      <td>1.121632</td>\n",
       "    </tr>\n",
       "    <tr>\n",
       "      <th>3</th>\n",
       "      <td>0.14</td>\n",
       "      <td>0.138630</td>\n",
       "      <td>0.001370</td>\n",
       "    </tr>\n",
       "    <tr>\n",
       "      <th>4</th>\n",
       "      <td>4.88</td>\n",
       "      <td>4.377988</td>\n",
       "      <td>0.502012</td>\n",
       "    </tr>\n",
       "    <tr>\n",
       "      <th>5</th>\n",
       "      <td>0.85</td>\n",
       "      <td>0.895302</td>\n",
       "      <td>0.045302</td>\n",
       "    </tr>\n",
       "    <tr>\n",
       "      <th>6</th>\n",
       "      <td>0.36</td>\n",
       "      <td>0.326343</td>\n",
       "      <td>0.033657</td>\n",
       "    </tr>\n",
       "    <tr>\n",
       "      <th>7</th>\n",
       "      <td>7.76</td>\n",
       "      <td>7.627070</td>\n",
       "      <td>0.132930</td>\n",
       "    </tr>\n",
       "    <tr>\n",
       "      <th>8</th>\n",
       "      <td>2.22</td>\n",
       "      <td>2.184579</td>\n",
       "      <td>0.035421</td>\n",
       "    </tr>\n",
       "    <tr>\n",
       "      <th>9</th>\n",
       "      <td>0.63</td>\n",
       "      <td>0.757221</td>\n",
       "      <td>0.127221</td>\n",
       "    </tr>\n",
       "  </tbody>\n",
       "</table>\n",
       "</div>"
      ],
      "text/plain": [
       "   pred_values  real_values      diff\n",
       "0         1.76     1.480830  0.279170\n",
       "1        24.61    26.146800  1.536800\n",
       "2        10.83    11.951632  1.121632\n",
       "3         0.14     0.138630  0.001370\n",
       "4         4.88     4.377988  0.502012\n",
       "5         0.85     0.895302  0.045302\n",
       "6         0.36     0.326343  0.033657\n",
       "7         7.76     7.627070  0.132930\n",
       "8         2.22     2.184579  0.035421\n",
       "9         0.63     0.757221  0.127221"
      ]
     },
     "execution_count": 63,
     "metadata": {},
     "output_type": "execute_result"
    }
   ],
   "source": [
    "y_rf_pred.head(10)"
   ]
  },
  {
   "cell_type": "code",
   "execution_count": null,
   "id": "ceaf2c15",
   "metadata": {},
   "outputs": [],
   "source": [
    "#SIMPLE VECTOR MACHINE"
   ]
  },
  {
   "cell_type": "code",
   "execution_count": 64,
   "id": "697902f7",
   "metadata": {},
   "outputs": [
    {
     "name": "stderr",
     "output_type": "stream",
     "text": [
      "/opt/homebrew/Caskroom/miniforge/base/envs/projectenv/lib/python3.10/site-packages/sklearn/svm/_base.py:1206: ConvergenceWarning: Liblinear failed to converge, increase the number of iterations.\n",
      "  warnings.warn(\n"
     ]
    },
    {
     "data": {
      "text/plain": [
       "array([ 2.3127201 , 26.24371207, 11.07264526, ...,  1.4573992 ,\n",
       "        8.04667763,  0.0363214 ])"
      ]
     },
     "execution_count": 64,
     "metadata": {},
     "output_type": "execute_result"
    }
   ],
   "source": [
    "from sklearn.svm import LinearSVR\n",
    "model = LinearSVR()\n",
    "model.fit(X_train, y_train)\n",
    "y_svr_pred = model.predict(X_test)\n",
    "y_svr_pred"
   ]
  },
  {
   "cell_type": "code",
   "execution_count": 65,
   "id": "7bb8e7e8",
   "metadata": {},
   "outputs": [
    {
     "data": {
      "text/plain": [
       "2.28395995779139"
      ]
     },
     "execution_count": 65,
     "metadata": {},
     "output_type": "execute_result"
    }
   ],
   "source": [
    "np.sqrt(mean_squared_error(y_svr_pred,y_test))"
   ]
  },
  {
   "cell_type": "code",
   "execution_count": 66,
   "id": "cb058f47",
   "metadata": {},
   "outputs": [
    {
     "data": {
      "text/plain": [
       "0.804257361146849"
      ]
     },
     "execution_count": 66,
     "metadata": {},
     "output_type": "execute_result"
    }
   ],
   "source": [
    "r2_score(y_svr_pred,y_test)"
   ]
  },
  {
   "cell_type": "code",
   "execution_count": 67,
   "id": "4d0b8520",
   "metadata": {},
   "outputs": [
    {
     "data": {
      "text/html": [
       "<div>\n",
       "<style scoped>\n",
       "    .dataframe tbody tr th:only-of-type {\n",
       "        vertical-align: middle;\n",
       "    }\n",
       "\n",
       "    .dataframe tbody tr th {\n",
       "        vertical-align: top;\n",
       "    }\n",
       "\n",
       "    .dataframe thead th {\n",
       "        text-align: right;\n",
       "    }\n",
       "</style>\n",
       "<table border=\"1\" class=\"dataframe\">\n",
       "  <thead>\n",
       "    <tr style=\"text-align: right;\">\n",
       "      <th></th>\n",
       "      <th>0</th>\n",
       "      <th>1</th>\n",
       "    </tr>\n",
       "  </thead>\n",
       "  <tbody>\n",
       "    <tr>\n",
       "      <th>0</th>\n",
       "      <td>2.312720</td>\n",
       "      <td>1.480830</td>\n",
       "    </tr>\n",
       "    <tr>\n",
       "      <th>1</th>\n",
       "      <td>26.243712</td>\n",
       "      <td>26.146800</td>\n",
       "    </tr>\n",
       "    <tr>\n",
       "      <th>2</th>\n",
       "      <td>11.072645</td>\n",
       "      <td>11.951632</td>\n",
       "    </tr>\n",
       "    <tr>\n",
       "      <th>3</th>\n",
       "      <td>-0.005774</td>\n",
       "      <td>0.138630</td>\n",
       "    </tr>\n",
       "    <tr>\n",
       "      <th>4</th>\n",
       "      <td>4.124686</td>\n",
       "      <td>4.377988</td>\n",
       "    </tr>\n",
       "  </tbody>\n",
       "</table>\n",
       "</div>"
      ],
      "text/plain": [
       "           0          1\n",
       "0   2.312720   1.480830\n",
       "1  26.243712  26.146800\n",
       "2  11.072645  11.951632\n",
       "3  -0.005774   0.138630\n",
       "4   4.124686   4.377988"
      ]
     },
     "execution_count": 67,
     "metadata": {},
     "output_type": "execute_result"
    }
   ],
   "source": [
    "frames = [y_svr_pred, y_test.values]\n",
    "result_pred = pd.DataFrame(data=frames)\n",
    "result_pred = result_pred.T\n",
    "result_pred.head()"
   ]
  },
  {
   "cell_type": "code",
   "execution_count": 68,
   "id": "8e537f1b",
   "metadata": {},
   "outputs": [
    {
     "name": "stdout",
     "output_type": "stream",
     "text": [
      "mean diff:  0.9358572734532774\n"
     ]
    }
   ],
   "source": [
    "y_svr_pred = result_pred.rename(columns={0: 'pred_values', 1:'real_values'})\n",
    "y_svr_pred['pred_values'] = (y_svr_pred['pred_values'].map(lambda x: round(x,2)))\n",
    "\n",
    "y_svr_pred['diff'] = abs(y_svr_pred['real_values'] -y_svr_pred['pred_values'])\n",
    "\n",
    "\n",
    "print('mean diff: ', abs(y_svr_pred['diff']).mean())"
   ]
  },
  {
   "cell_type": "code",
   "execution_count": 69,
   "id": "7782b587",
   "metadata": {},
   "outputs": [
    {
     "data": {
      "text/html": [
       "<div>\n",
       "<style scoped>\n",
       "    .dataframe tbody tr th:only-of-type {\n",
       "        vertical-align: middle;\n",
       "    }\n",
       "\n",
       "    .dataframe tbody tr th {\n",
       "        vertical-align: top;\n",
       "    }\n",
       "\n",
       "    .dataframe thead th {\n",
       "        text-align: right;\n",
       "    }\n",
       "</style>\n",
       "<table border=\"1\" class=\"dataframe\">\n",
       "  <thead>\n",
       "    <tr style=\"text-align: right;\">\n",
       "      <th></th>\n",
       "      <th>pred_values</th>\n",
       "      <th>real_values</th>\n",
       "      <th>diff</th>\n",
       "    </tr>\n",
       "  </thead>\n",
       "  <tbody>\n",
       "    <tr>\n",
       "      <th>0</th>\n",
       "      <td>2.31</td>\n",
       "      <td>1.480830</td>\n",
       "      <td>0.829170</td>\n",
       "    </tr>\n",
       "    <tr>\n",
       "      <th>1</th>\n",
       "      <td>26.24</td>\n",
       "      <td>26.146800</td>\n",
       "      <td>0.093200</td>\n",
       "    </tr>\n",
       "    <tr>\n",
       "      <th>2</th>\n",
       "      <td>11.07</td>\n",
       "      <td>11.951632</td>\n",
       "      <td>0.881632</td>\n",
       "    </tr>\n",
       "    <tr>\n",
       "      <th>3</th>\n",
       "      <td>-0.01</td>\n",
       "      <td>0.138630</td>\n",
       "      <td>0.148630</td>\n",
       "    </tr>\n",
       "    <tr>\n",
       "      <th>4</th>\n",
       "      <td>4.12</td>\n",
       "      <td>4.377988</td>\n",
       "      <td>0.257988</td>\n",
       "    </tr>\n",
       "    <tr>\n",
       "      <th>5</th>\n",
       "      <td>1.21</td>\n",
       "      <td>0.895302</td>\n",
       "      <td>0.314698</td>\n",
       "    </tr>\n",
       "    <tr>\n",
       "      <th>6</th>\n",
       "      <td>0.39</td>\n",
       "      <td>0.326343</td>\n",
       "      <td>0.063657</td>\n",
       "    </tr>\n",
       "    <tr>\n",
       "      <th>7</th>\n",
       "      <td>7.53</td>\n",
       "      <td>7.627070</td>\n",
       "      <td>0.097070</td>\n",
       "    </tr>\n",
       "    <tr>\n",
       "      <th>8</th>\n",
       "      <td>2.58</td>\n",
       "      <td>2.184579</td>\n",
       "      <td>0.395421</td>\n",
       "    </tr>\n",
       "    <tr>\n",
       "      <th>9</th>\n",
       "      <td>0.50</td>\n",
       "      <td>0.757221</td>\n",
       "      <td>0.257221</td>\n",
       "    </tr>\n",
       "  </tbody>\n",
       "</table>\n",
       "</div>"
      ],
      "text/plain": [
       "   pred_values  real_values      diff\n",
       "0         2.31     1.480830  0.829170\n",
       "1        26.24    26.146800  0.093200\n",
       "2        11.07    11.951632  0.881632\n",
       "3        -0.01     0.138630  0.148630\n",
       "4         4.12     4.377988  0.257988\n",
       "5         1.21     0.895302  0.314698\n",
       "6         0.39     0.326343  0.063657\n",
       "7         7.53     7.627070  0.097070\n",
       "8         2.58     2.184579  0.395421\n",
       "9         0.50     0.757221  0.257221"
      ]
     },
     "execution_count": 69,
     "metadata": {},
     "output_type": "execute_result"
    }
   ],
   "source": [
    "y_svr_pred.head(10)"
   ]
  },
  {
   "cell_type": "code",
   "execution_count": 71,
   "id": "42a9af79",
   "metadata": {},
   "outputs": [
    {
     "name": "stderr",
     "output_type": "stream",
     "text": [
      "/opt/homebrew/Caskroom/miniforge/base/envs/projectenv/lib/python3.10/site-packages/sklearn/svm/_base.py:1206: ConvergenceWarning: Liblinear failed to converge, increase the number of iterations.\n",
      "  warnings.warn(\n"
     ]
    }
   ],
   "source": [
    "models =['LinReg','DT', 'RF',\"SVR\"]\n",
    "\n",
    "frame = pd.DataFrame(columns={'models':[],'rmse_train':[], 'mae_train':[],'r2_train':[] ,'rmse_test':[], 'mae_test':[],'r2_test':[]})\n",
    "\n",
    "\n",
    "\n",
    "for i in range(len(models)):\n",
    "    if models[i] == 'LinReg':\n",
    "        model = LinearRegression()\n",
    "        model.fit(X_train,y_train)\n",
    "        pred_train = model.predict(X_train)\n",
    "        rmse_train = np.sqrt(mean_squared_error(y_train,pred_train))\n",
    "        mae_train = mean_absolute_error(y_train,pred_train)\n",
    "        r2_train = r2_score(y_train,pred_train)\n",
    "        \n",
    "        pred_test = model.predict(X_test)\n",
    "        rmse_test = np.sqrt(mean_squared_error(y_test,pred_test))\n",
    "        mae_test = mean_absolute_error(y_test,pred_test)\n",
    "        r2_test = r2_score(y_test,pred_test)\n",
    "        frame.loc[frame.shape[0]] = ['Linear Regression', rmse_train, mae_train,r2_train,rmse_test,mae_test,r2_test]\n",
    "        \n",
    "    elif models[i] =='DT':\n",
    "        model = DecisionTreeRegressor()\n",
    "        model.fit(X_train,y_train)\n",
    "        pred_train = model.predict(X_train)\n",
    "        rmse_train = np.sqrt(mean_squared_error(y_train,pred_train))\n",
    "        mae_train = mean_absolute_error(y_train,pred_train)\n",
    "        r2_train = r2_score(y_train,pred_train)\n",
    "        \n",
    "        pred_test = model.predict(X_test)\n",
    "        rmse_test = np.sqrt(mean_squared_error(y_test,pred_test))\n",
    "        mae_test = mean_absolute_error(y_test,pred_test)\n",
    "        r2_test = r2_score(y_test,pred_test)\n",
    "        frame.loc[frame.shape[0]] = ['Decision Tree Regression',rmse_train, mae_train,r2_train,rmse_test,mae_test,r2_test]\n",
    "        \n",
    "    elif models[i] =='RF':\n",
    "        model = RandomForestRegressor()\n",
    "        model.fit(X_train,y_train)\n",
    "        pred_train = model.predict(X_train)\n",
    "        rmse_train = np.sqrt(mean_squared_error(y_train,pred_train))\n",
    "        mae_train = mean_absolute_error(y_train,pred_train)\n",
    "        r2_train = r2_score(y_train,pred_train)\n",
    "       \n",
    "        pred_test = model.predict(X_test)\n",
    "        rmse_test = np.sqrt(mean_squared_error(y_test,pred_test))\n",
    "        mae_test = mean_absolute_error(y_test,pred_test)\n",
    "        r2_test = r2_score(y_test,pred_test)\n",
    "        frame.loc[frame.shape[0]] = ['Random Forest Regression',rmse_train, mae_train,r2_train,rmse_test,mae_test,r2_test]\n",
    "        \n",
    "    else :\n",
    "        models[i] =='SVM'\n",
    "        model = LinearSVR()\n",
    "        model.fit(X_train,y_train)\n",
    "        pred_train = model.predict(X_train)\n",
    "        rmse_train = np.sqrt(mean_squared_error(y_train,pred_train))\n",
    "        mae_train = mean_absolute_error(y_train,pred_train)\n",
    "        r2_train = r2_score(y_train,pred_train)\n",
    "        \n",
    "        pred_test = model.predict(X_test)\n",
    "        rmse_test = np.sqrt(mean_squared_error(y_test,pred_test))\n",
    "        mae_test = mean_absolute_error(y_test,pred_test)\n",
    "        r2_test = r2_score(y_test,pred_test)\n",
    "        frame.loc[frame.shape[0]] = ['Simple Vector Regression',rmse_train, mae_train,r2_train,rmse_test,mae_test,r2_test]"
   ]
  },
  {
   "cell_type": "code",
   "execution_count": 72,
   "id": "7f0351d9",
   "metadata": {},
   "outputs": [
    {
     "data": {
      "text/html": [
       "<div>\n",
       "<style scoped>\n",
       "    .dataframe tbody tr th:only-of-type {\n",
       "        vertical-align: middle;\n",
       "    }\n",
       "\n",
       "    .dataframe tbody tr th {\n",
       "        vertical-align: top;\n",
       "    }\n",
       "\n",
       "    .dataframe thead th {\n",
       "        text-align: right;\n",
       "    }\n",
       "</style>\n",
       "<table border=\"1\" class=\"dataframe\">\n",
       "  <thead>\n",
       "    <tr style=\"text-align: right;\">\n",
       "      <th></th>\n",
       "      <th>models</th>\n",
       "      <th>rmse_train</th>\n",
       "      <th>mae_train</th>\n",
       "      <th>r2_train</th>\n",
       "      <th>rmse_test</th>\n",
       "      <th>mae_test</th>\n",
       "      <th>r2_test</th>\n",
       "    </tr>\n",
       "  </thead>\n",
       "  <tbody>\n",
       "    <tr>\n",
       "      <th>0</th>\n",
       "      <td>Linear Regression</td>\n",
       "      <td>2.248606e+00</td>\n",
       "      <td>1.274278e+00</td>\n",
       "      <td>0.825057</td>\n",
       "      <td>2.175469</td>\n",
       "      <td>1.249916</td>\n",
       "      <td>0.835265</td>\n",
       "    </tr>\n",
       "    <tr>\n",
       "      <th>1</th>\n",
       "      <td>Decision Tree Regression</td>\n",
       "      <td>7.307584e-17</td>\n",
       "      <td>6.202951e-18</td>\n",
       "      <td>1.000000</td>\n",
       "      <td>1.074164</td>\n",
       "      <td>0.378154</td>\n",
       "      <td>0.959837</td>\n",
       "    </tr>\n",
       "    <tr>\n",
       "      <th>2</th>\n",
       "      <td>Random Forest Regression</td>\n",
       "      <td>2.745645e-01</td>\n",
       "      <td>9.923602e-02</td>\n",
       "      <td>0.997392</td>\n",
       "      <td>0.688010</td>\n",
       "      <td>0.272855</td>\n",
       "      <td>0.983523</td>\n",
       "    </tr>\n",
       "    <tr>\n",
       "      <th>3</th>\n",
       "      <td>Simple Vector Regression</td>\n",
       "      <td>2.483296e+00</td>\n",
       "      <td>9.905906e-01</td>\n",
       "      <td>0.786634</td>\n",
       "      <td>2.283489</td>\n",
       "      <td>0.935967</td>\n",
       "      <td>0.818499</td>\n",
       "    </tr>\n",
       "  </tbody>\n",
       "</table>\n",
       "</div>"
      ],
      "text/plain": [
       "                     models    rmse_train     mae_train  r2_train  rmse_test  \\\n",
       "0         Linear Regression  2.248606e+00  1.274278e+00  0.825057   2.175469   \n",
       "1  Decision Tree Regression  7.307584e-17  6.202951e-18  1.000000   1.074164   \n",
       "2  Random Forest Regression  2.745645e-01  9.923602e-02  0.997392   0.688010   \n",
       "3  Simple Vector Regression  2.483296e+00  9.905906e-01  0.786634   2.283489   \n",
       "\n",
       "   mae_test   r2_test  \n",
       "0  1.249916  0.835265  \n",
       "1  0.378154  0.959837  \n",
       "2  0.272855  0.983523  \n",
       "3  0.935967  0.818499  "
      ]
     },
     "execution_count": 72,
     "metadata": {},
     "output_type": "execute_result"
    }
   ],
   "source": [
    "frame"
   ]
  },
  {
   "cell_type": "code",
   "execution_count": null,
   "id": "30d442a1",
   "metadata": {},
   "outputs": [],
   "source": []
  }
 ],
 "metadata": {
  "kernelspec": {
   "display_name": "Python 3 (ipykernel)",
   "language": "python",
   "name": "python3"
  },
  "language_info": {
   "codemirror_mode": {
    "name": "ipython",
    "version": 3
   },
   "file_extension": ".py",
   "mimetype": "text/x-python",
   "name": "python",
   "nbconvert_exporter": "python",
   "pygments_lexer": "ipython3",
   "version": "3.9.7"
  }
 },
 "nbformat": 4,
 "nbformat_minor": 5
}
